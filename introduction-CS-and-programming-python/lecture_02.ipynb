{
 "cells": [
  {
   "cell_type": "markdown",
   "id": "4f14d9df-7274-4160-96be-61e528f1e56d",
   "metadata": {},
   "source": [
    "#### strings\n",
    "\n",
    "strings são uma sequencia de caracteres (letras, numeros, especiais, vazio).<br>\n",
    "declaramos com \"\" ou '', colocando o conteudo dentro<br>\n",
    "podemos fazer algumas operações com ele, por exemplo.<br>"
   ]
  },
  {
   "cell_type": "code",
   "execution_count": 1,
   "id": "ec477956-0505-430d-8a43-f92f747183ab",
   "metadata": {},
   "outputs": [
    {
     "name": "stdout",
     "output_type": "stream",
     "text": [
      "oioioi\n"
     ]
    }
   ],
   "source": [
    "print(\"oi\" * 3)"
   ]
  },
  {
   "cell_type": "markdown",
   "id": "9c4e5dfb-3305-464a-9911-a09f0f2f6a5b",
   "metadata": {},
   "source": [
    "Como tbm concatenar elas."
   ]
  },
  {
   "cell_type": "code",
   "execution_count": 2,
   "id": "18e80035-ac0d-486a-a37d-e101e4f51dc8",
   "metadata": {},
   "outputs": [
    {
     "name": "stdout",
     "output_type": "stream",
     "text": [
      "oi lucas\n"
     ]
    }
   ],
   "source": [
    "nome = \"lucas\"\n",
    "print(\"oi\" + \" \" + nome)"
   ]
  },
  {
   "cell_type": "markdown",
   "id": "fa5c188e-ee04-4288-b29d-5520d20eb963",
   "metadata": {},
   "source": [
    "Pode usar virgula para \"juntar\" as strings nos prints, porem o programa da um espaço a mais se for utilizar a virgula, exemplo"
   ]
  },
  {
   "cell_type": "code",
   "execution_count": 4,
   "id": "f7c17c12-2bfc-4d43-80fd-cb0926a3a2d9",
   "metadata": {},
   "outputs": [
    {
     "name": "stdout",
     "output_type": "stream",
     "text": [
      "virgula, oi lucas\n"
     ]
    }
   ],
   "source": [
    "print(\"virgula, oi\",nome)"
   ]
  },
  {
   "cell_type": "markdown",
   "id": "6be3ca1c-bd23-46f6-8578-1f6c2217f001",
   "metadata": {},
   "source": [
    "input() ==> funcao built-in para o usuario inserir algo, podemos colocar um texto como parametro para identificar oq vai ser aquele input, e toda entrada vem em formato de string <br>"
   ]
  },
  {
   "cell_type": "code",
   "execution_count": 5,
   "id": "734c3d51-1177-4da8-9038-7aefa8a37c9d",
   "metadata": {},
   "outputs": [
    {
     "name": "stdin",
     "output_type": "stream",
     "text": [
      " meu nome\n"
     ]
    },
    {
     "name": "stdout",
     "output_type": "stream",
     "text": [
      "oi, meu nome\n"
     ]
    }
   ],
   "source": [
    "seu_nome = input()\n",
    "print(\"oi,\",seu_nome)"
   ]
  },
  {
   "cell_type": "markdown",
   "id": "9100052c-957e-4638-a65b-44a073db35d0",
   "metadata": {},
   "source": [
    "Comparações sempre retornam um boolean, True ou False<br>\n",
    "cuidar com os tipos de dados que for comparar, da para comparar strings, mas NÃO COM NUMERO NE FILHAO<br>\n",
    "\n",
    "operadores logicos, podemos usar o 'and', 'or' e 'not'\n",
    "- and. ambos precisam ser verdadeiros\n",
    "- or. apenas um\n",
    "- not. negacao, inverte a condição\n",
    "- xor. ou exclusivo, um tem que ser verdadeiro e o outro nao<br>"
   ]
  },
  {
   "cell_type": "code",
   "execution_count": 15,
   "id": "2b55e5e6-217b-4f35-a884-b016a4347458",
   "metadata": {},
   "outputs": [
    {
     "ename": "AssertionError",
     "evalue": "A GENTE FALOU PARA NAO COMPARAR NUMERO COM STRING NÉ",
     "output_type": "error",
     "traceback": [
      "\u001b[1;31m---------------------------------------------------------------------------\u001b[0m",
      "\u001b[1;31mAssertionError\u001b[0m                            Traceback (most recent call last)",
      "\u001b[1;32m~\\AppData\\Local\\Temp/ipykernel_28704/3364563055.py\u001b[0m in \u001b[0;36m<module>\u001b[1;34m\u001b[0m\n\u001b[0;32m      3\u001b[0m \u001b[1;32massert\u001b[0m \u001b[1;32mTrue\u001b[0m \u001b[1;32mor\u001b[0m \u001b[1;32mFalse\u001b[0m\u001b[1;33m\u001b[0m\u001b[1;33m\u001b[0m\u001b[0m\n\u001b[0;32m      4\u001b[0m \u001b[1;32massert\u001b[0m \u001b[1;32mnot\u001b[0m \u001b[1;32mTrue\u001b[0m \u001b[1;32mor\u001b[0m \u001b[1;32mTrue\u001b[0m\u001b[1;33m\u001b[0m\u001b[1;33m\u001b[0m\u001b[0m\n\u001b[1;32m----> 5\u001b[1;33m \u001b[1;32massert\u001b[0m \u001b[1;34m\"IO\"\u001b[0m \u001b[1;33m==\u001b[0m \u001b[1;36m10\u001b[0m\u001b[1;33m,\u001b[0m \u001b[1;34m\"A GENTE FALOU PARA NAO COMPARAR NUMERO COM STRING NÉ\"\u001b[0m\u001b[1;33m\u001b[0m\u001b[1;33m\u001b[0m\u001b[0m\n\u001b[0m",
      "\u001b[1;31mAssertionError\u001b[0m: A GENTE FALOU PARA NAO COMPARAR NUMERO COM STRING NÉ"
     ]
    }
   ],
   "source": [
    "assert \"oiii\" == \"o\" + (\"i\"*3)\n",
    "assert 14 == 10+4 and 2 == 1+1\n",
    "assert True or False\n",
    "assert not True or True\n",
    "assert \"IO\" == 10, \"A GENTE FALOU PARA NAO COMPARAR NUMERO COM STRING NÉ\""
   ]
  },
  {
   "cell_type": "markdown",
   "id": "ad38ef17-046d-4424-9a6e-93d2306f02bd",
   "metadata": {},
   "source": [
    "A palavra chave \"assert\" testa a condição, se for verdadeira ela segue normal, caso contrario mostra um erro OU algo que gostaria que aparecesse.<br>\n",
    "#### assert \\<CONDICAO>, \\<PRINTA CASO SEJA FALSO>"
   ]
  },
  {
   "cell_type": "markdown",
   "id": "4e8898eb-cdab-4800-8991-853c55cd207d",
   "metadata": {},
   "source": [
    " "
   ]
  },
  {
   "cell_type": "markdown",
   "id": "426bd341-81bf-448d-9476-5de847a2c796",
   "metadata": {},
   "source": [
    "### Control flow, branching\n",
    "if \\<condicao><br>\n",
    " . . . . \\<expressao><br>\n",
    "rodando o codigo que está dentro da indentação desse bloco, ou seja, todo o bloco com esse espaçamento, vai ser 'dentro' desse if.<br>\n",
    "Podemos usar tbm o 'else', caso o 'if' não seja verdadeiro, ele vai rodar o código dentro do 'else'<br>"
   ]
  },
  {
   "cell_type": "code",
   "execution_count": 16,
   "id": "94b6b589-6dda-403d-a32c-50000511c2b9",
   "metadata": {},
   "outputs": [
    {
     "name": "stdout",
     "output_type": "stream",
     "text": [
      "é verdadeiro\n",
      "roda tudo q está nesse bloco\n"
     ]
    }
   ],
   "source": [
    "condicao = True\n",
    "if condicao:\n",
    "    print(\"é verdadeiro\")\n",
    "    \n",
    "    print(\"roda tudo q está nesse bloco\")\n",
    "    ...\n",
    "else:\n",
    "    print(\"se fosse falso... rodaria esse print, e o resto do bloco\")"
   ]
  },
  {
   "cell_type": "markdown",
   "id": "63cabdaf-5211-4df4-89b8-864dd518ae26",
   "metadata": {},
   "source": [
    "<h4>Lembrando que na condição usamos o <strong>'=='</strong> para indicar se é igualdade, não o '='<br>\n",
    "    = é usado para \"passar\" informacao, o == para checar condicao</h4>"
   ]
  },
  {
   "cell_type": "markdown",
   "id": "752f1fdb-a315-4706-bd1e-049fccb7b072",
   "metadata": {},
   "source": [
    "## While\n",
    "nem nos podemos checar em um momento que precisamos ficar testando e testando aquela condicao, isso geraria um monte de 'if' iguais, que possuem a mesma condicao um dentro do outro, mas e se tivermos um jeito de deixar o codigo testando aquela condicao enquanto for verdadeira?<br>\n",
    "Ai vem o WHILE, em portugues -> enquanto<br>\n",
    "while \\<condicao><br>\n",
    ". . . . \\<expressao><br>\n",
    ". . . . bloco roda enquanto a condicao for verdadeira"
   ]
  },
  {
   "cell_type": "code",
   "execution_count": 17,
   "id": "e020fdcf-5f78-42e5-b492-47fcc4360e89",
   "metadata": {},
   "outputs": [],
   "source": [
    "while False:\n",
    "    pass\n",
    "# Se for 'True' isso vai rodar eternamente, enquanto a verdade for verdade"
   ]
  },
  {
   "cell_type": "markdown",
   "id": "7a87001f-35bd-420f-9229-498028f072b9",
   "metadata": {},
   "source": [
    "Ele roda toda a expressao, depois volta para conferir se a condicao continua verdadeira, se sim, continua, caso não? continua o código<br>\n",
    "basicamente usamos o while quando não sabemos quantas interações vamos ter, quantas vezes o usuario vai precisar inserir algo.<br>\n",
    "se usar um contador como condicao, é preciso declarar a variavel da condicao antes do while.<br>"
   ]
  },
  {
   "cell_type": "code",
   "execution_count": 18,
   "id": "e1f18019-5136-4e5d-94ff-bec10150b12f",
   "metadata": {},
   "outputs": [
    {
     "name": "stdin",
     "output_type": "stream",
     "text": [
      "Quantas vezes vamos repetir 4\n"
     ]
    },
    {
     "name": "stdout",
     "output_type": "stream",
     "text": [
      "0 repeticao\n",
      "1 repeticao\n",
      "2 repeticao\n",
      "3 repeticao\n"
     ]
    }
   ],
   "source": [
    "contador = 0\n",
    "repetir = int(input(\"Quantas vezes vamos repetir\"))\n",
    "while repetir > contador:\n",
    "    # Vai rodar ENQUANTO o 'repetir' for maior que o 'contador'\n",
    "    print(f\"{contador} repeticao\")\n",
    "    contador += 1"
   ]
  },
  {
   "cell_type": "markdown",
   "id": "72cd2ee5-0ebf-43e8-adbd-6071469aea91",
   "metadata": {},
   "source": [
    "## for\n",
    "usamos quando temos uma noção doque queremos iterar, quem sabe uma lista, um conjunto de numeros, e por ai vai<br>\n",
    "geralmente se usa bastante a funcao 'range' com o loop for, range() cria uma sequencia de números de acordo com seu parametro<br>\n",
    "range(\\<numero_inicio>,\\<numero_final>,\\<passo>)  |  \\<passo> é opcional, seu padrão é 1\n",
    "- numero_inicio => ele sempre começa com esse numero, se for 0, começa com 0\n",
    "- numero_final => quando chegar nesse valor, ele para, ou seja se for 6, ele roda até o 5, pois 6 é o final\n",
    "- passo => como voce quer q ele incremente, pode ser positivo ou negativo, depende dos numeros iniciais e finais"
   ]
  },
  {
   "cell_type": "code",
   "execution_count": 20,
   "id": "fb1f7d87-c296-4a0c-bbed-2d0ec102b900",
   "metadata": {},
   "outputs": [
    {
     "data": {
      "text/plain": [
       "range(0, 5)"
      ]
     },
     "execution_count": 20,
     "metadata": {},
     "output_type": "execute_result"
    }
   ],
   "source": [
    "range(5) # Retorna um objeto 'range' contendo os números de 0 a 4.\n",
    "# LEMBRNADO Q ELE PARA NO NUMERO QUE ESCOLHEMOS COMO FINAL"
   ]
  },
  {
   "cell_type": "markdown",
   "id": "c3bbe9fd-417c-436d-9cae-347f2512500b",
   "metadata": {},
   "source": [
    "Precisamos 'declarar' uma variavel para utilizar no for, nesse caso ela não precisa ter sido decladara antes, pode ser durante o proprio 'for', LEMBRANDO que o valor é regravado, mantendo o ultimo valor do objeto iterado na variavel.<br>\n",
    "\n",
    "for \\<variavel que recebera os valores> in \\<objeto para ser iterado><br>\n",
    "<br>\n",
    "o objeto para ser iterado por ser uma lista, uma string, uma funcao que retorne um objeto iterador e por ai vai"
   ]
  },
  {
   "cell_type": "code",
   "execution_count": 25,
   "id": "a8bc0c97-ea8b-4b03-8275-0614ecabe4bc",
   "metadata": {},
   "outputs": [
    {
     "name": "stdout",
     "output_type": "stream",
     "text": [
      "0\n",
      "1\n",
      "2\n",
      "3\n",
      "4\n",
      "i: 4\n"
     ]
    }
   ],
   "source": [
    "# vamos testar com a funcao range()\n",
    "for i in range(5):\n",
    "    print(i)\n",
    "    \n",
    "# vamos ver como ficou a variavel i?\n",
    "print(\"i: {}\".format(i))\n",
    "# ficou o ultimo valor passado no for"
   ]
  },
  {
   "cell_type": "markdown",
   "id": "267d9671-6363-420c-9718-b09d54294ce5",
   "metadata": {},
   "source": [
    "## break\n",
    "usamos para parar um loop, parando o codigo de imediato, não seguindo o codigo até o final, ele realmente BREKA o programa<br>\n",
    "lembrando que ele para apenas o loop mais interno, ou seja se tiver rodando um for dentro de um while, e o break estiver no for, ele para somente o for, o while continua<br>\n",
    "\n",
    "for | while\n",
    "----|------\n",
    "conhecimento do numero de repeticoes | não sabe o nº de interações\n",
    "pode parar no inicio com break | pode parar no inicio com break\n",
    "usar um contador | da para usar, mas precisa declarar\n",
    "da para reescrever com while | nao da para reescrever todos com for"
   ]
  },
  {
   "cell_type": "code",
   "execution_count": 28,
   "id": "2b323abb-d795-4d78-8e4f-903dd3c93acc",
   "metadata": {},
   "outputs": [
    {
     "name": "stdout",
     "output_type": "stream",
     "text": [
      "repeticao 1\n",
      "repeticao 2\n",
      "repeticao 3\n",
      "repeticao 4\n",
      "repeticao 5\n"
     ]
    }
   ],
   "source": [
    "contador = 0\n",
    "while True:\n",
    "    contador += 1\n",
    "    print(\"repeticao\",contador)\n",
    "    if contador == 5:\n",
    "        break\n",
    "        \n",
    "# no caso ele mostra o valor 5 tbm, pois o 'break' está depois da condição que valida o break"
   ]
  },
  {
   "cell_type": "code",
   "execution_count": null,
   "id": "b0fb2b2f-29ce-46fc-bae5-f2fe4df305e4",
   "metadata": {},
   "outputs": [],
   "source": []
  },
  {
   "cell_type": "markdown",
   "id": "d0699d3c-8770-47b8-af7e-f5cddcf21a51",
   "metadata": {},
   "source": [
    "### Código apresentado na aula"
   ]
  },
  {
   "cell_type": "code",
   "execution_count": 29,
   "id": "97cf8c3e-f48a-43ca-a9d3-62119c7ba76b",
   "metadata": {},
   "outputs": [],
   "source": [
    "###################\n",
    "## EXAMPLE: strings \n",
    "###################\n",
    "hi = \"hello there\"\n",
    "name = \"ana\"\n",
    "greet = hi + name  \n",
    "print(greet)\n",
    "greeting = hi + \" \" + name\n",
    "print(greeting)\n",
    "silly = hi + (\" \" + name)*3\n",
    "print(silly)\n",
    "\n",
    "####################\n",
    "## EXAMPLE: output \n",
    "####################\n",
    "x = 1\n",
    "print(x)\n",
    "x_str = str(x)\n",
    "print(\"my fav number is\", x, \".\", \"x=\", x)\n",
    "print(\"my fav number is\", x_str + \".\" + \"x=\" + x_str)\n",
    "print(\"my fav number is\" + x_str + \".\" + \"x=\" + x_str)\n",
    "\n",
    "\n",
    "####################\n",
    "## EXAMPLE: input\n",
    "####################\n",
    "text = input(\"Type anything... \")\n",
    "print(5*text)\n",
    "num = int(input(\"Type a number... \"))\n",
    "print(5*num)\n",
    "\n",
    "\n",
    "####################\n",
    "## EXAMPLE: conditionals/branching \n",
    "####################\n",
    "x = float(input(\"Enter a number for x: \"))\n",
    "y = float(input(\"Enter a number for y: \"))\n",
    "if x == y:\n",
    "    print(\"x and y are equal\")\n",
    "    if y != 0:\n",
    "        print(\"therefore, x / y is\", x/y)\n",
    "elif x < y:\n",
    "    print(\"x is smaller\")\n",
    "elif x > y:\n",
    "    print(\"y is smaller\")\n",
    "print(\"thanks!\")\n",
    "\n",
    "\n",
    "\n",
    "####################\n",
    "## EXAMPLE: remainder \n",
    "####################\n",
    "num = int(input(\"Enter a number: \"))\n",
    "if num % 2 == 0:\n",
    "    print(\"number is even\")\n",
    "else:\n",
    "    print(\"number is odd\")\n",
    "\n",
    "\n",
    "####################\n",
    "## EXAMPLE: while loops \n",
    "## Try expanding this code to show a sad face if you go right\n",
    "## twice and flip the table any more times than that. \n",
    "## Hint: use a counter\n",
    "####################\n",
    "n = input(\"You are in the Lost Forest\\n****************\\n****************\\n :)\\n****************\\n****************\\nGo left or right? \")\n",
    "while n == \"right\" or n == \"Right\":\n",
    "    n = input(\"You are in the Lost Forest\\n****************\\n******       ***\\n  (â•¯Â°â–¡Â°ï¼‰â•¯ï¸µ â”»â”â”»\\n****************\\n****************\\nGo left or right? \")\n",
    "print(\"\\nYou got out of the Lost Forest!\\n\\o/\")\n",
    "\n",
    "n = 0\n",
    "while n < 5:\n",
    "    print(n)\n",
    "    n = n+1\n",
    "\n",
    "\n",
    "####################\n",
    "## EXAMPLE: for loops\n",
    "####################\n",
    "for n in range(5):\n",
    "    print(n)\n",
    "\n",
    "mysum = 0\n",
    "for i in range(10):\n",
    "    mysum += i\n",
    "print(mysum)\n",
    "\n",
    "mysum = 0\n",
    "for i in range(7, 10):\n",
    "    mysum += i\n",
    "print(mysum)\n",
    "\n",
    "mysum = 0\n",
    "for i in range(5, 11, 2):\n",
    "    mysum += i\n",
    "    if mysum == 5:\n",
    "        break\n",
    "        mysum += 1\n",
    "print(mysum)\n",
    "\n",
    "\n",
    "\n",
    "####################\n",
    "## EXAMPLE: perfect squares\n",
    "####################\n",
    "ans = 0\n",
    "neg_flag = False\n",
    "x = int(input(\"Enter an integer: \"))\n",
    "if x < 0:\n",
    "    neg_flag = True\n",
    "while ans**2 < x:\n",
    "    ans = ans + 1\n",
    "if ans**2 == x:\n",
    "    print(\"Square root of\", x, \"is\", ans)\n",
    "else:\n",
    "    print(x, \"is not a perfect square\")\n",
    "    if neg_flag:\n",
    "        print(\"Just checking... did you mean\", -x, \"?\")\n",
    "\n",
    "\n",
    "####################\n",
    "## TEST YOURSELF!\n",
    "## Modify the perfect squares example to print \n",
    "## imaginary perfect sqrts if given a negative num.\n",
    "####################"
   ]
  },
  {
   "cell_type": "code",
   "execution_count": null,
   "id": "b1418144-6943-404a-a880-a2c7038f5f19",
   "metadata": {},
   "outputs": [],
   "source": []
  },
  {
   "cell_type": "markdown",
   "id": "1ccb4ba9-dde5-4a85-aaec-d6db3e44b3f7",
   "metadata": {},
   "source": [
    "## Questoes"
   ]
  },
  {
   "cell_type": "markdown",
   "id": "476ad961-6115-415a-bb58-f93fbabe5238",
   "metadata": {},
   "source": [
    "### Questão 1"
   ]
  },
  {
   "cell_type": "markdown",
   "id": "c1c46950-c854-4b7b-afaa-1ba629803711",
   "metadata": {},
   "source": [
    "<img src=\"media/02_questao1.png\">"
   ]
  },
  {
   "cell_type": "markdown",
   "id": "045df9f5-f5bf-4212-abe4-cc0abdb931b2",
   "metadata": {},
   "source": [
    "### A) umbrella ella ella ella\n",
    "Como temos uma (), é o lugar que primeiro ocorre a operação, então ele pega a string 'ella' adiciona um espaço ' ', e repete esse procedimento 4 vezes, adicionando a variavel once, que está armazenada a string 'umbr'"
   ]
  },
  {
   "cell_type": "code",
   "execution_count": 32,
   "id": "417b1c9a-2d0d-4241-98e4-2eb34a7e2e3a",
   "metadata": {},
   "outputs": [
    {
     "data": {
      "text/plain": [
       "'umbrella ella ella ella '"
      ]
     },
     "execution_count": 32,
     "metadata": {},
     "output_type": "execute_result"
    }
   ],
   "source": [
    "once = \"umbr\"\n",
    "repeat = \"ella\"\n",
    "u = once + (repeat+\" \")*4\n",
    "u"
   ]
  },
  {
   "cell_type": "markdown",
   "id": "6386dc6d-9077-4db8-91e2-36f564184e17",
   "metadata": {},
   "source": [
    "### Questão 2"
   ]
  },
  {
   "cell_type": "markdown",
   "id": "21473e62-657d-495c-a886-b9be6ce08f78",
   "metadata": {},
   "source": [
    "<img src=\"media/02_questao2.png\">"
   ]
  },
  {
   "cell_type": "markdown",
   "id": "c25a77c1-3f43-4bf0-9e3b-a40f126e9f97",
   "metadata": {},
   "source": [
    "### A) false then false\n",
    "\n",
    "Bem 15 não é maior que 8.<br>\n",
    "Na segunda condição temos um valor verdadeiro e falso, como o operador logico é de 'and' ambos precisam estar positivados, retornando False"
   ]
  },
  {
   "cell_type": "code",
   "execution_count": 33,
   "id": "847a4434-968d-4620-afa2-38c7474524a7",
   "metadata": {},
   "outputs": [
    {
     "name": "stdout",
     "output_type": "stream",
     "text": [
      "False\n",
      "False\n"
     ]
    }
   ],
   "source": [
    "pset_time = 15\n",
    "sleep_time = 8\n",
    "print(sleep_time > pset_time)\n",
    "derive = True\n",
    "drink = False\n",
    "both = drink and derive\n",
    "print(both)"
   ]
  },
  {
   "cell_type": "markdown",
   "id": "c9d79ddc-5833-43a0-bb18-b6d671fb0571",
   "metadata": {},
   "source": [
    "### Questão 3"
   ]
  },
  {
   "cell_type": "markdown",
   "id": "c6466c21-3442-49ec-aa0f-ef51e2e8396c",
   "metadata": {},
   "source": [
    "<img src=\"media/02_questao3.png\">"
   ]
  },
  {
   "cell_type": "markdown",
   "id": "37b8553c-c644-4876-a80f-09f41bf6318c",
   "metadata": {},
   "source": [
    "### resposta) y is smaller\n",
    "\n",
    "acabou bugando as perguntas na semana 2 :( entao tivemos que tirar print do video.<br>\n",
    "Bem ele checa qual numero é maior ou se sao iguais, como a condição do y ser maior é verdadeira, ele printa seu bloco de código com a funcao print"
   ]
  },
  {
   "cell_type": "code",
   "execution_count": 36,
   "id": "6531b856-ef5d-41ff-b039-d5c2fe219429",
   "metadata": {},
   "outputs": [
    {
     "name": "stdout",
     "output_type": "stream",
     "text": [
      "y is smaller\n"
     ]
    }
   ],
   "source": [
    "x = float(5)\n",
    "y = float(0)\n",
    "if x == y:\n",
    "    if y != 0:\n",
    "        print(\"x / y is\",x/y)\n",
    "elif x < y:\n",
    "    print(\"x is smaller\")\n",
    "else:\n",
    "    print(\"y is smaller\")"
   ]
  },
  {
   "cell_type": "markdown",
   "id": "61b4a983-5693-4019-b62b-3f746727e5ef",
   "metadata": {},
   "source": [
    "<img src=\"media/02_questao4.png\">"
   ]
  },
  {
   "cell_type": "markdown",
   "id": "78e89927-ac55-422d-9d6c-497859a552f6",
   "metadata": {},
   "source": [
    "### B) You got out of the Lost Forest!\n",
    "\n",
    "O programa não sabe se você quer ir para a direita ou esquerda, ele segue as regras do código, como deixamos claro que a pessoa precisa escrever 'right' com todas palavras minusculas, ele nem entra no loop e vai direto para o final do codigo"
   ]
  },
  {
   "cell_type": "code",
   "execution_count": 37,
   "id": "ac1b0a65-a357-46a9-baa8-34d46ba776c8",
   "metadata": {},
   "outputs": [
    {
     "name": "stdin",
     "output_type": "stream",
     "text": [
      "You'r... left or right? Right\n"
     ]
    },
    {
     "name": "stdout",
     "output_type": "stream",
     "text": [
      "You got out of the Lost Forest!\n"
     ]
    }
   ],
   "source": [
    "n = input(\"You'r... left or right?\")\n",
    "while n == \"right\":\n",
    "    n = input(\"You'r... left or right\")\n",
    "print(\"You got out of the Lost Forest!\")"
   ]
  },
  {
   "cell_type": "markdown",
   "id": "04a625e5-e184-479b-9cb6-8be89f53c21f",
   "metadata": {},
   "source": [
    "### Questão 5 "
   ]
  },
  {
   "cell_type": "markdown",
   "id": "5b344a3b-6c74-4f11-a5cd-469a1be33f02",
   "metadata": {},
   "source": [
    "<img src=\"media/02_questao5.png\">"
   ]
  },
  {
   "cell_type": "markdown",
   "id": "d311bcc3-0bf3-4c75-bbb0-65191a8c96c4",
   "metadata": {},
   "source": [
    "### printa o número 5\n",
    "\n",
    "Ele roda um range de 5 a 10 com passos de 2, entao começa com 5,7 e 9.<br>\n",
    "como logo ja tem um break caso o valor seja 5... ele para na hora e mostra o valor de 5, não fazendo a soma de 1, já que o código recebeu um break, parando de imediato"
   ]
  },
  {
   "cell_type": "code",
   "execution_count": 39,
   "id": "9ed37fd7-8106-4df2-808e-336038bfb6a0",
   "metadata": {},
   "outputs": [
    {
     "name": "stdout",
     "output_type": "stream",
     "text": [
      "5\n"
     ]
    }
   ],
   "source": [
    "mysum = 0\n",
    "for i in range(5, 11, 2):\n",
    "    mysum += i\n",
    "    if mysum == 5:\n",
    "        break\n",
    "        mysum += 1\n",
    "print(mysum)"
   ]
  }
 ],
 "metadata": {
  "kernelspec": {
   "display_name": "Python 3 (ipykernel)",
   "language": "python",
   "name": "python3"
  },
  "language_info": {
   "codemirror_mode": {
    "name": "ipython",
    "version": 3
   },
   "file_extension": ".py",
   "mimetype": "text/x-python",
   "name": "python",
   "nbconvert_exporter": "python",
   "pygments_lexer": "ipython3",
   "version": "3.10.1"
  }
 },
 "nbformat": 4,
 "nbformat_minor": 5
}
