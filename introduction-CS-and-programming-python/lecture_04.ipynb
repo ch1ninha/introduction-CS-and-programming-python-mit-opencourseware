{
 "cells": [
  {
   "cell_type": "markdown",
   "id": "c9a376ad-ea17-48cb-bbbb-eae9c41bc570",
   "metadata": {},
   "source": [
    "# DECOMPOSITION, ABSTRACTION, FUNCTIONS"
   ]
  },
  {
   "cell_type": "markdown",
   "id": "c2d39bef-3c19-41a9-b397-d18c5f9d5649",
   "metadata": {},
   "source": [
    "Revisão da aula passada, sobre interação em objetos \"iteraveis\" como a funcao range e strings. Sobre tbm diversos meios de resolver um problema, finalizando com o bisection"
   ]
  },
  {
   "cell_type": "markdown",
   "id": "34295fa5-0986-41cc-905e-e85f4907c52d",
   "metadata": {},
   "source": [
    "## Funções, como estruturar seu programa"
   ]
  },
  {
   "cell_type": "markdown",
   "id": "46c933ce-92d3-4369-85f4-0113829309bd",
   "metadata": {},
   "source": [
    "Construimos todo o código em um único arquivo, isso para problemas basicos pode ser util, porém quando fica mais complexo, fica necessario uma melhor organização. Se precisar usar a mesma implementação mais de uma vez, caso precise alterar depois, vai ter que alterar em todas as partes, ai entramos com funções"
   ]
  },
  {
   "cell_type": "code",
   "execution_count": 1,
   "id": "6ebb6f50-1610-435f-8283-a9d71d51c8ba",
   "metadata": {},
   "outputs": [
    {
     "name": "stdin",
     "output_type": "stream",
     "text": [
      " ab\n"
     ]
    },
    {
     "name": "stdout",
     "output_type": "stream",
     "text": [
      "a\n",
      "b\n",
      "a\n",
      "b\n",
      "b\n"
     ]
    }
   ],
   "source": [
    "palavra = input()\n",
    "\n",
    "for char in palavra:\n",
    "    print(char)\n",
    "    \n",
    "# finge que possui um codigo aqui\n",
    "\n",
    "# agora precisa passar um loop pela palavra dnv\n",
    "for char in palavra:\n",
    "    print(char)\n",
    "    \n",
    "# POREM agora você precisa adicionar algo nesse loop.\n",
    "# Uma condição\n",
    "for char in palavra:\n",
    "    if char == \"a\":\n",
    "        continue\n",
    "    print(char)"
   ]
  },
  {
   "cell_type": "markdown",
   "id": "8bc8a2d8-1808-4b55-bb72-69d8de670170",
   "metadata": {},
   "source": [
    "Então é melhor construimos uma função que realiza esse loop, assim quando precisar fazer alguma alteração, faz direto na função, aplicando em todos os loops que utilizam aquela funcao"
   ]
  },
  {
   "cell_type": "code",
   "execution_count": 2,
   "id": "67877301-b64b-428e-adde-0f39ca125d36",
   "metadata": {},
   "outputs": [
    {
     "name": "stdout",
     "output_type": "stream",
     "text": [
      "b\n"
     ]
    }
   ],
   "source": [
    "# declarando nossa funcao\n",
    "def loop_palavra(palavra):\n",
    "    for char in palavra:\n",
    "        if \"a\" in char:\n",
    "            continue\n",
    "        print(char)\n",
    "    \n",
    "# chamando a funcao\n",
    "loop_palavra(palavra)"
   ]
  },
  {
   "cell_type": "markdown",
   "id": "507ce50a-90fe-4914-b069-bcc07af26c47",
   "metadata": {},
   "source": [
    "### Abstração "
   ]
  },
  {
   "cell_type": "markdown",
   "id": "042a5c29-c20b-4dd2-a6c1-873b6f372212",
   "metadata": {},
   "source": [
    "- Você não precisa entender como funciona para usar tal coisa.\n",
    "- Sabemos oque entra e sua saida\n"
   ]
  },
  {
   "cell_type": "markdown",
   "id": "c8c26555-b007-4340-9426-6676a5acb458",
   "metadata": {},
   "source": [
    "### Decomposição"
   ]
  },
  {
   "cell_type": "markdown",
   "id": "efb50c48-b05b-406c-a3a2-2bb8a240f592",
   "metadata": {},
   "source": [
    "Dividir um grande problema em diversos menores, queremos algo como saida, juntamos a entrada, dividimos em diversas partes e cada parte trabalha solucionando o problema em comum, para no final se juntar todas as saidas e entregar a solução do grande problema.\n",
    "\n",
    "Todos resolvem o problema da mesma forma, mas com diferentes entradas que retornam diferentes saidas, quando combinados, voila.\n",
    "\n",
    "Diferentes dispositivos trabalham juntos para atingir um objetivo final comum."
   ]
  },
  {
   "cell_type": "markdown",
   "id": "a7dab149-cf85-4bca-9dfd-0e7b89354621",
   "metadata": {},
   "source": [
    "#### Em programação\n",
    "Em programação dividimos o código em diversos modulos, de começo vamos dividir os modulos como funcoes, criando uma estrutura para o codigo.\n",
    "\n",
    "O usuario final não precisa saber como funciona a função, apenas saber qual a saida ele gera (dependendo da entrada)"
   ]
  },
  {
   "cell_type": "markdown",
   "id": "42b99234-ab88-443b-853d-b7cc5d621607",
   "metadata": {},
   "source": [
    "## Funções"
   ]
  },
  {
   "cell_type": "markdown",
   "id": "e1fc7af6-b47d-4a73-84bc-b18a2df4a8de",
   "metadata": {},
   "source": [
    "Rodam no código somente se forem chamadas ou invocadas\n",
    "- Nomes\n",
    "- Parametros\n",
    "- Docstring (não obrigatorio, mas recomendado)\n",
    "- Corpo\n",
    "- Retorna algo"
   ]
  },
  {
   "cell_type": "code",
   "execution_count": 3,
   "id": "18eea388-e4c6-47ab-b704-859947504074",
   "metadata": {},
   "outputs": [
    {
     "data": {
      "text/plain": [
       "'\\n    aqui é o docstring\\n    Entrada: n, número inteiro positivo.\\n    Retorna: Verdadeiro caso seja par, se n, retorna falso'"
      ]
     },
     "execution_count": 3,
     "metadata": {},
     "output_type": "execute_result"
    }
   ],
   "source": [
    "def is_par(n):\n",
    "    \"\"\"\n",
    "    aqui é o docstring\n",
    "    Entrada: n, número inteiro positivo.\n",
    "    Retorna: Verdadeiro caso seja par, se n, retorna falso\"\"\"\n",
    "    if n % 2 == 0:\n",
    "        return True\n",
    "    return False\n",
    "\n",
    "assert is_par(10), True\n",
    "\n",
    "# agora para chamar a docstring\n",
    "is_par.__doc__"
   ]
  },
  {
   "cell_type": "markdown",
   "id": "c289f280-38e7-426c-8bdd-5fe9848c6a2c",
   "metadata": {},
   "source": [
    "### Parametros:\n",
    " - São oq estão na função, uma função possui parametros\n",
    " - Ex: def funcao(parametro1, parametro2): ...\n",
    " \n",
    "### Argumentos:\n",
    " - São os valores que passamos para os parametros de uma função\n",
    " - Ex: funcao(\"argumento1\",\"argumento2\")"
   ]
  },
  {
   "cell_type": "markdown",
   "id": "632d4999-a475-43a1-8346-53469500fd1f",
   "metadata": {},
   "source": [
    "## Escopo"
   ]
  },
  {
   "cell_type": "markdown",
   "id": "82ea69ac-7ec3-4104-bf5d-2ee90752dcfc",
   "metadata": {},
   "source": [
    "Varivel no escopo, é uma variavel \"local\", ela está somente dentro da função, sendo utilizada somente e exclusivamente dentro da função, para ser usada fora dela, é preciso fazer isso a transformando em uma variavel global"
   ]
  },
  {
   "cell_type": "code",
   "execution_count": 4,
   "id": "1869afdb-42d1-4e07-b7eb-5fd54187a960",
   "metadata": {},
   "outputs": [
    {
     "ename": "NameError",
     "evalue": "name 'x' is not defined",
     "output_type": "error",
     "traceback": [
      "\u001b[1;31m---------------------------------------------------------------------------\u001b[0m",
      "\u001b[1;31mNameError\u001b[0m                                 Traceback (most recent call last)",
      "\u001b[1;32m~\\AppData\\Local\\Temp/ipykernel_17248/2574112843.py\u001b[0m in \u001b[0;36m<module>\u001b[1;34m\u001b[0m\n\u001b[0;32m      4\u001b[0m \u001b[1;33m\u001b[0m\u001b[0m\n\u001b[0;32m      5\u001b[0m \u001b[0mfunc_teste\u001b[0m\u001b[1;33m(\u001b[0m\u001b[1;33m)\u001b[0m\u001b[1;33m\u001b[0m\u001b[1;33m\u001b[0m\u001b[0m\n\u001b[1;32m----> 6\u001b[1;33m \u001b[0mprint\u001b[0m\u001b[1;33m(\u001b[0m\u001b[0mx\u001b[0m\u001b[1;33m)\u001b[0m\u001b[1;33m\u001b[0m\u001b[1;33m\u001b[0m\u001b[0m\n\u001b[0m",
      "\u001b[1;31mNameError\u001b[0m: name 'x' is not defined"
     ]
    }
   ],
   "source": [
    "def func_teste():\n",
    "    x = 1\n",
    "    return x\n",
    "\n",
    "func_teste()\n",
    "print(x)"
   ]
  },
  {
   "cell_type": "markdown",
   "id": "b9868165-af81-4903-ae0c-e45c175f03ae",
   "metadata": {},
   "source": [
    "Observa o erro, a variavel 'x' não foi definida, mas pera... ela está dentro da função 'func_teste'! Exatamente, ela está no escopo local da funcao, após sair dele, ela \"perde\" seu valor"
   ]
  },
  {
   "cell_type": "code",
   "execution_count": 5,
   "id": "fd3f4f13-b5e1-4937-905b-9bd215663294",
   "metadata": {},
   "outputs": [
    {
     "name": "stdout",
     "output_type": "stream",
     "text": [
      "1\n"
     ]
    }
   ],
   "source": [
    "def func_teste():\n",
    "    global x\n",
    "    x = 1\n",
    "    return x\n",
    "\n",
    "func_teste()\n",
    "print(x)"
   ]
  },
  {
   "cell_type": "markdown",
   "id": "b2e4b5a9-a836-4a2e-987b-0df61ef4f090",
   "metadata": {},
   "source": [
    "Já agora que adicionamos a palavra 'global' na declaracao da variavel, podendo utilizar ela em qualquer escopo do código. Cuidar, as vezes não queremos realmente deixar a variavel global, podemos acabar alterar algo que não gostariamos"
   ]
  },
  {
   "cell_type": "code",
   "execution_count": 6,
   "id": "b5a4a454-15f7-4c34-a941-233ada3e0059",
   "metadata": {},
   "outputs": [
    {
     "name": "stdout",
     "output_type": "stream",
     "text": [
      "Antes de chamar a funcao: 2\n",
      "dentro funcao: 3\n",
      "Depois de chamar a funcao: 2\n"
     ]
    }
   ],
   "source": [
    "x = 2\n",
    "def func_local(x):\n",
    "    x += 1\n",
    "    print(\"dentro funcao: {}\".format(x))\n",
    "    return x \n",
    "print(\"Antes de chamar a funcao:\",x)\n",
    "func_local(x)\n",
    "print(\"Depois de chamar a funcao:\",x)"
   ]
  },
  {
   "cell_type": "markdown",
   "id": "0b3bf090-98a1-4045-94f8-f022bd75de7f",
   "metadata": {},
   "source": [
    "Olha que dahora, o valor da variavel 'x' manteve o valor de 2, que foi o passado no escopo global, o nome do parametro é algo 'simbolico', não signifca que precisa ser a variavel x, mas que dentro da funcao vamos utilizar essa nome para atribuir certo valor."
   ]
  },
  {
   "cell_type": "code",
   "execution_count": 7,
   "id": "b1c1835a-de28-4ed0-8685-51f3b1915112",
   "metadata": {},
   "outputs": [
    {
     "name": "stdout",
     "output_type": "stream",
     "text": [
      "Antes de chamar a funcao: 1\n",
      "2\n",
      "Depois de chamar a funcao: 1\n"
     ]
    }
   ],
   "source": [
    "x = 1\n",
    "def func_local(algum_numero):\n",
    "    algum_numero += 1\n",
    "    print(algum_numero)\n",
    "    return algum_numero\n",
    "print(\"Antes de chamar a funcao:\",x)\n",
    "func_local(x)\n",
    "print(\"Depois de chamar a funcao:\",x)"
   ]
  },
  {
   "cell_type": "markdown",
   "id": "26e9b15e-8ad3-4ec1-b8cf-9765d1bfa29b",
   "metadata": {},
   "source": [
    "Mesma aplicação do anterior, porem agora mudando o nome do parametro, viu como não altera sua funcionalidade?"
   ]
  },
  {
   "cell_type": "markdown",
   "id": "202b2d9f-52ac-4feb-8032-e5cb42cbbf91",
   "metadata": {},
   "source": [
    "## Novamente, tudo são objetos"
   ]
  },
  {
   "cell_type": "markdown",
   "id": "dae57f2e-ef32-44be-9de3-a5611e57f284",
   "metadata": {},
   "source": [
    "- Inteiros são objetos\n",
    "- Decimais são objetos\n",
    "- Strings são objetos\n",
    "- Funções são objetos\n",
    "- Logo parametros são objetos\n",
    "- logo TUDO são objetos\n",
    "\n",
    "Podemos passar funções como argumento para outra função hehe como assim??"
   ]
  },
  {
   "cell_type": "code",
   "execution_count": 8,
   "id": "513a3265-7626-404f-9b74-6caa01d5ad94",
   "metadata": {},
   "outputs": [],
   "source": [
    "def func_a():\n",
    "    print(\"func_a\")\n",
    "\n",
    "def func_b(y):\n",
    "    print(\"func_b\")\n",
    "    return y\n",
    "    \n",
    "def func_c(z):\n",
    "    print(\"func_c\")\n",
    "    return z()"
   ]
  },
  {
   "cell_type": "code",
   "execution_count": 9,
   "id": "d76ff9bd-612c-40ef-87d2-155a9b9da8d5",
   "metadata": {},
   "outputs": [
    {
     "name": "stdout",
     "output_type": "stream",
     "text": [
      "func_a\n",
      "None\n"
     ]
    }
   ],
   "source": [
    "print(func_a())"
   ]
  },
  {
   "cell_type": "markdown",
   "id": "4d34c2bb-9f94-4ab9-9b84-f40c2413514a",
   "metadata": {},
   "source": [
    "Bem a função mostra o print que está dentro da função, mas tbm retorna 'None', como não temos um 'return' na funcao, ela tem como saida um Vazio => None"
   ]
  },
  {
   "cell_type": "code",
   "execution_count": 10,
   "id": "8a844cce-979a-49e3-8edc-e22d384bd370",
   "metadata": {},
   "outputs": [
    {
     "name": "stdout",
     "output_type": "stream",
     "text": [
      "func_b\n",
      "7\n"
     ]
    }
   ],
   "source": [
    "print(func_b(2) + 5)"
   ]
  },
  {
   "cell_type": "markdown",
   "id": "6ce94b34-96cf-40e4-bec8-ffe2534554a9",
   "metadata": {},
   "source": [
    "A função 'func_b' tem com parametro o 'y', seu corpo tem somente um print e retorna o valor que foi passado como argumento, então quando chamamos a função recebemos a string do print e o valor de 7, 2 (valor argumento) + 5 (soma do print)"
   ]
  },
  {
   "cell_type": "code",
   "execution_count": 11,
   "id": "a2f2ea7f-c4b7-407b-847a-513c12a21a27",
   "metadata": {},
   "outputs": [
    {
     "name": "stdout",
     "output_type": "stream",
     "text": [
      "func_c\n",
      "func_a\n",
      "None\n"
     ]
    }
   ],
   "source": [
    "print(func_c(func_a))"
   ]
  },
  {
   "cell_type": "markdown",
   "id": "59209d21-e641-433a-a0be-6c423537c0c9",
   "metadata": {},
   "source": [
    "SIM, passamos uma função como argumento, na funcao 'func_c' nos chamamos um print avisando que é a func_c e retornamos o parametro como \"chamada\", entao se passarmos como argumento uma função, ao chamar a 'func_c' vai tbm ser chamada a funcao que passamos como argumento.\n",
    "\n",
    "- 1ª Etapa: Chamamos a funcao func_c, passando como parametro a func_a\n",
    "- 2ª Etapa: Imprime o print(\"func_c\") para o usuario\n",
    "- 3ª Etapa: Retorna o argumento como uma chamada, no caso a funcao 'func_a'\n",
    "- 4ª Etapa: Chamamos a funcao func_a\n",
    "- 5ª Etapa: Imprime o print(\"func_a\") para o usuario, agora estamos na func_a\n",
    "- 6ª Etapa: Retorna um None, já que não temos nenhum return para o usuario na func_a"
   ]
  },
  {
   "cell_type": "markdown",
   "id": "b06efcaa-9ca7-47d2-b603-a90b9cb5b0ed",
   "metadata": {},
   "source": [
    "## Destalhes de Escopo"
   ]
  },
  {
   "cell_type": "markdown",
   "id": "d5835772-3e48-4c95-886c-8cecbebe81f0",
   "metadata": {},
   "source": [
    "- Dentro de uma função, podemos acessar variaveis definadas FORA dela\n",
    "- Não podemos modificar uma variavel DECLARA FORA, dentro de uma função\n",
    "    - É preciso declarar ela como 'global' dentro da funcao para modificar "
   ]
  },
  {
   "cell_type": "code",
   "execution_count": 12,
   "id": "123c565a-40a8-4611-90aa-d4367749450c",
   "metadata": {},
   "outputs": [
    {
     "name": "stdout",
     "output_type": "stream",
     "text": [
      "x | dentro f(): 2\n",
      "y | dentro f(): 5\n",
      "5\n"
     ]
    }
   ],
   "source": [
    "def f(y):\n",
    "    x = 1\n",
    "    x += 1\n",
    "    print(\"x | dentro f():\",x)\n",
    "    print(\"y | dentro f():\",y)\n",
    "    \n",
    "x = 5\n",
    "f(x)\n",
    "print(x)"
   ]
  },
  {
   "cell_type": "markdown",
   "id": "a57bfff5-3d2e-4cef-b311-ecd48e90eb76",
   "metadata": {},
   "source": [
    "Veja que dentro da funcao, declaramos novamente a variavel x e somamos um, na hora de imprimir é mostrado o valor declarado dentro da funcao com sua soma, mesmo passando uma variavel com nome 'x' como argumento, como parametro está como 'y', então se a gente gostaria de utilizar esse valor, teriamos que usar o nome 'y' e não 'x' dentro da funcao."
   ]
  },
  {
   "cell_type": "code",
   "execution_count": 13,
   "id": "61fd6e99-e74c-4c35-b7cd-4987d25adaa4",
   "metadata": {},
   "outputs": [
    {
     "name": "stdout",
     "output_type": "stream",
     "text": [
      "x     | dentro g(): 5\n",
      "x + 1 | dentro g(): 6\n",
      "5\n"
     ]
    }
   ],
   "source": [
    "def g(y):\n",
    "    print(\"x     | dentro g():\",x)\n",
    "    print(\"x + 1 | dentro g():\",x+1)\n",
    "    \n",
    "x = 5\n",
    "g(x)\n",
    "print(x)"
   ]
  },
  {
   "cell_type": "markdown",
   "id": "68851fd2-5714-4f6e-957a-92d1f90cc5cb",
   "metadata": {},
   "source": [
    "Dessa vez não declaramos a variavel 'x' dentro da funcao, quando chamamos ela a função busca o 'x' no escopo global, achando a referencia ao inteiro 5, imprimindo o valor de 5 e com uma soma. Não estamos modificando a variavel 'x' na funcao, apenas estamos imprimindo a variavel 'x + 1', mas em nenhum momento passamos um novo valor para a variavel. Ao final chamamos novamente 'x' no escopo global, mostrando o valor de 5, como comentamos, em nenhum momento foi modificado a referencia do valor de 5"
   ]
  },
  {
   "cell_type": "code",
   "execution_count": 14,
   "id": "2154c039-c1a2-4992-ba0f-7bfebdfab7d3",
   "metadata": {},
   "outputs": [
    {
     "name": "stdout",
     "output_type": "stream",
     "text": [
      "g: x= 4\n"
     ]
    },
    {
     "ename": "NameError",
     "evalue": "name 'h' is not defined",
     "output_type": "error",
     "traceback": [
      "\u001b[1;31m---------------------------------------------------------------------------\u001b[0m",
      "\u001b[1;31mNameError\u001b[0m                                 Traceback (most recent call last)",
      "\u001b[1;32m~\\AppData\\Local\\Temp/ipykernel_17248/1638712564.py\u001b[0m in \u001b[0;36m<module>\u001b[1;34m\u001b[0m\n\u001b[0;32m     23\u001b[0m \u001b[0mz\u001b[0m \u001b[1;33m=\u001b[0m \u001b[0mg\u001b[0m\u001b[1;33m(\u001b[0m\u001b[0mx\u001b[0m\u001b[1;33m)\u001b[0m\u001b[1;33m\u001b[0m\u001b[1;33m\u001b[0m\u001b[0m\n\u001b[0;32m     24\u001b[0m \u001b[1;33m\u001b[0m\u001b[0m\n\u001b[1;32m---> 25\u001b[1;33m \u001b[0mh\u001b[0m\u001b[1;33m(\u001b[0m\u001b[1;33m)\u001b[0m \u001b[1;31m# -> gera erro, não foi definido a variavel h\u001b[0m\u001b[1;33m\u001b[0m\u001b[1;33m\u001b[0m\u001b[0m\n\u001b[0m",
      "\u001b[1;31mNameError\u001b[0m: name 'h' is not defined"
     ]
    }
   ],
   "source": [
    "# -> Escopo Global\n",
    "def g(x):\n",
    "    # -> Escopo funcao 'g'\n",
    "    def h():\n",
    "        # -> Escopo funcao 'h'\n",
    "        x = \"abc\"\n",
    "        # passamos uma string para a variavel local x\n",
    "        # mas não fazemos nada com ela, nem voltamos nada\n",
    "        # como está sem return, volta um None\n",
    "        \n",
    "    x = x + 1\n",
    "    # Pegamos o valor passado ao parametro 'x' \n",
    "    print(\"g: x=\",x)\n",
    "    # imprimos ele mais +, no caso 4\n",
    "    h()\n",
    "    # AGORA SIM chamamos a funcao 'h()'\n",
    "    # porem dentro dela somente temos uma string sendo\n",
    "    # passada para a varivel LOCAL na funcao\n",
    "    return x\n",
    "    # retornamos o valor de x, no caso 4\n",
    "\n",
    "x = 3\n",
    "z = g(x)\n",
    "\n",
    "h() # -> gera erro, não foi definido a variavel h"
   ]
  },
  {
   "cell_type": "markdown",
   "id": "957e0351-a6cb-4c09-9ed4-55c876582cdb",
   "metadata": {},
   "source": [
    "Sim, definimos a funcao 'h' dentro da funcao 'g', conseguimos chamar ela somente no escopo da funcao 'g', aonde ela foi declarada. Se tentar chamar ela no escopo global? f"
   ]
  },
  {
   "cell_type": "markdown",
   "id": "edf266fe-1971-4347-8096-56fde6c80896",
   "metadata": {},
   "source": [
    "# Questoes"
   ]
  },
  {
   "cell_type": "markdown",
   "id": "af841dc8-62b7-4394-907e-49d75e21b520",
   "metadata": {},
   "source": [
    "### 1)"
   ]
  },
  {
   "cell_type": "markdown",
   "id": "9032a25a-f439-4c71-8264-754b8e4b0d54",
   "metadata": {},
   "source": [
    "<img src=\"media/04_questao1.png\">"
   ]
  },
  {
   "cell_type": "markdown",
   "id": "bad28092-961e-4a47-81ff-988f9b9d7a35",
   "metadata": {},
   "source": [
    "4 linhas, é feita 4 chamadas, mas nem todas geram uma linha... a primeira 'add(1,2' é uma dela, como ela retorna um valor da soma entre os parametros, retornando o valor da funcao, mas não imprimindo na tela, já a segunda 'print(add(2,3))' possui o print, então retorna o valor da funcao e logo imprimi, na terceira 'mult(3,4)' a funcao 'mult' possui um print e nao um return, portanto ela imprime na tela o resultado da funcao, já na ultima 'print(mult(4,5))' ele printa 2 linhas, uma com a funcao print de dentro da funcao, e outra do escopo global, mas como não existe um return dentro da funcao, ele retorna um None"
   ]
  },
  {
   "cell_type": "code",
   "execution_count": 15,
   "id": "9fe9ca0d-66ac-4036-bfe2-2c020b51c9cd",
   "metadata": {
    "tags": []
   },
   "outputs": [
    {
     "name": "stdout",
     "output_type": "stream",
     "text": [
      "5\n",
      "12\n",
      "20\n",
      "None\n"
     ]
    }
   ],
   "source": [
    "def add(x,y):\n",
    "    return x + y\n",
    "\n",
    "def mult(x,y):\n",
    "    print(x*y)\n",
    "    \n",
    "add(1,2)\n",
    "print(add(2,3))\n",
    "mult(3,4)\n",
    "print(mult(4,5))"
   ]
  },
  {
   "cell_type": "markdown",
   "id": "63dd0576-a722-4d3f-8f29-857dd99abddf",
   "metadata": {},
   "source": [
    "### 2)"
   ]
  },
  {
   "cell_type": "markdown",
   "id": "2e756648-54ff-4a68-becc-db14ef1db5de",
   "metadata": {},
   "source": [
    "<img src=\"media/04_questao2.png\">"
   ]
  },
  {
   "cell_type": "markdown",
   "id": "7220ca1f-20ba-4ce4-9a63-b7fb3fea3af8",
   "metadata": {
    "tags": []
   },
   "source": [
    "Chamamos a funcao 'sq' passando como argumento a funcao 'f' e o valor 2, entao logo na funcao 'sq' esse 2 é multiplicado por ele mesmo, esse valor é passado para funcao do parametro, entao chamamos a funcao 'f' com o valor de '4' => 'f(4)', dentro da funcao 'f' o valor é multiplicado novamente por ele mesmo e dessa vez com um return somente com o resultado, no caso 4\\*4 => 16, pedimos  para imprimir essse valor e é oq aparece"
   ]
  },
  {
   "cell_type": "code",
   "execution_count": 16,
   "id": "45a74190-a4f7-448e-8fd0-672427fa8d81",
   "metadata": {},
   "outputs": [
    {
     "name": "stdout",
     "output_type": "stream",
     "text": [
      "16\n"
     ]
    }
   ],
   "source": [
    "def sq(func,x):\n",
    "    y = x**2\n",
    "    return func(y)\n",
    "\n",
    "def f(x):\n",
    "    return x**2\n",
    "\n",
    "calc = sq(f,2)\n",
    "print(calc)"
   ]
  },
  {
   "cell_type": "code",
   "execution_count": null,
   "id": "f5a431f7-4af5-4128-8366-8d09f2c04e1e",
   "metadata": {},
   "outputs": [],
   "source": []
  }
 ],
 "metadata": {
  "kernelspec": {
   "display_name": "Python 3 (ipykernel)",
   "language": "python",
   "name": "python3"
  },
  "language_info": {
   "codemirror_mode": {
    "name": "ipython",
    "version": 3
   },
   "file_extension": ".py",
   "mimetype": "text/x-python",
   "name": "python",
   "nbconvert_exporter": "python",
   "pygments_lexer": "ipython3",
   "version": "3.10.1"
  }
 },
 "nbformat": 4,
 "nbformat_minor": 5
}
