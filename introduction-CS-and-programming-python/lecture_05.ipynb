{
 "cells": [
  {
   "cell_type": "markdown",
   "id": "b16e0b86-6611-4c4f-a4b0-eeae98881fab",
   "metadata": {},
   "source": [
    "# TUPLES, LISTS, ALIASING, MUTABILITY, CLONING"
   ]
  },
  {
   "cell_type": "markdown",
   "id": "b46a2c71-093d-419a-b5be-999e8d126f34",
   "metadata": {},
   "source": [
    "Ultima aula falamos sobre decomposição e abstração, aprendendo sobre como funcionam as funções, como reusar código de uma forma melhor."
   ]
  },
  {
   "cell_type": "code",
   "execution_count": 34,
   "id": "8a9af688-96f0-4038-a97d-2160b760a063",
   "metadata": {},
   "outputs": [],
   "source": [
    "# compound data types\n",
    "int, float, bool, str\n",
    "# hoje vamos falar sobre\n",
    "tuple, list\n",
    "\n",
    "# são umas coleções de dados\n",
    "tupla = (1,2,3,4)\n",
    "lista = [1,2,3,4]"
   ]
  },
  {
   "cell_type": "markdown",
   "id": "dea4db89-413c-40be-a13e-54c8d0f2e11a",
   "metadata": {},
   "source": [
    "Parecido com strings, são uma sequencia de elementos, mas não são somente caracteres, podem ser booleanos, inteiros, floats até mesmo tuplas ou listas dentro"
   ]
  },
  {
   "cell_type": "markdown",
   "id": "08cc6a5d-9fa5-44af-aca0-a4f436c8a798",
   "metadata": {},
   "source": [
    "### Tupla"
   ]
  },
  {
   "cell_type": "code",
   "execution_count": 19,
   "id": "3424788f-c975-4867-9ead-11bc0b366e05",
   "metadata": {},
   "outputs": [
    {
     "name": "stdout",
     "output_type": "stream",
     "text": [
      "<class 'tuple'>\n"
     ]
    }
   ],
   "source": [
    "isso_eh_tupla = 1,\n",
    "print(type(isso_eh_tupla))"
   ]
  },
  {
   "cell_type": "markdown",
   "id": "25b4e29c-a9e3-446c-8059-593d094b8f81",
   "metadata": {},
   "source": [
    "Nós diferenciamos tuplas de listas com o \"separador\" entre eles, a tupla é o ( parenteses ), já a lista é \\[ colchetes \\].\n",
    "\n",
    "But é legal ver que se declararmos uma \"tupla\" com somente um elemento, ele não acaba sendo uma tupla e sim somente aquele elemento."
   ]
  },
  {
   "cell_type": "code",
   "execution_count": 20,
   "id": "e48aa9f5-8394-44d8-ba6a-3f5ba7eca0aa",
   "metadata": {},
   "outputs": [
    {
     "name": "stdout",
     "output_type": "stream",
     "text": [
      "<class 'tuple'>\n",
      "<class 'int'>\n",
      "<class 'tuple'>\n"
     ]
    }
   ],
   "source": [
    "print(type( () ))\n",
    "print(type( (1) ))\n",
    "print(type( (1,) ))"
   ]
  },
  {
   "cell_type": "markdown",
   "id": "c18cfcd0-618d-49ae-aae1-44c3ffb9bba0",
   "metadata": {},
   "source": [
    "Fica visivel isso quando fazemos um slice em uma tupla, se a volta é de apenas 1 elemento, ele deixa uma virgula ao final"
   ]
  },
  {
   "cell_type": "code",
   "execution_count": 21,
   "id": "fcf5ce34-cad6-4422-8efc-aad01e965d4d",
   "metadata": {},
   "outputs": [
    {
     "data": {
      "text/plain": [
       "(2,)"
      ]
     },
     "execution_count": 21,
     "metadata": {},
     "output_type": "execute_result"
    }
   ],
   "source": [
    "tupla[1:2]"
   ]
  },
  {
   "cell_type": "markdown",
   "id": "6a7bd651-f729-4e86-81c4-d70c9752f35e",
   "metadata": {},
   "source": [
    "Tuplas são imutaveis, ou seja não conseguimos mudar algum valor dentro dela, lembrando as strings, não conseguimos mudar um elemento de certa posição."
   ]
  },
  {
   "cell_type": "code",
   "execution_count": 22,
   "id": "33e544d1-8ab7-44c1-860b-a43c850e688a",
   "metadata": {},
   "outputs": [
    {
     "name": "stdout",
     "output_type": "stream",
     "text": [
      "1\n"
     ]
    },
    {
     "ename": "TypeError",
     "evalue": "'tuple' object does not support item assignment",
     "output_type": "error",
     "traceback": [
      "\u001b[1;31m---------------------------------------------------------------------------\u001b[0m",
      "\u001b[1;31mTypeError\u001b[0m                                 Traceback (most recent call last)",
      "\u001b[1;32m~\\AppData\\Local\\Temp/ipykernel_10120/2000494134.py\u001b[0m in \u001b[0;36m<module>\u001b[1;34m\u001b[0m\n\u001b[0;32m      2\u001b[0m \u001b[0mprint\u001b[0m\u001b[1;33m(\u001b[0m\u001b[0mtupla\u001b[0m\u001b[1;33m[\u001b[0m\u001b[1;36m0\u001b[0m\u001b[1;33m]\u001b[0m\u001b[1;33m)\u001b[0m\u001b[1;33m\u001b[0m\u001b[1;33m\u001b[0m\u001b[0m\n\u001b[0;32m      3\u001b[0m \u001b[1;33m\u001b[0m\u001b[0m\n\u001b[1;32m----> 4\u001b[1;33m \u001b[0mtupla\u001b[0m\u001b[1;33m[\u001b[0m\u001b[1;36m0\u001b[0m\u001b[1;33m]\u001b[0m \u001b[1;33m=\u001b[0m \u001b[1;36m0\u001b[0m\u001b[1;33m\u001b[0m\u001b[1;33m\u001b[0m\u001b[0m\n\u001b[0m",
      "\u001b[1;31mTypeError\u001b[0m: 'tuple' object does not support item assignment"
     ]
    }
   ],
   "source": [
    "tupla = (1,2,3,4)\n",
    "print(tupla[0])\n",
    "\n",
    "tupla[0] = 0"
   ]
  },
  {
   "cell_type": "markdown",
   "id": "5da21d41-77fb-4e12-94a2-40448367d636",
   "metadata": {},
   "source": [
    "Erro ao tentar mudar um valor de uma tupla, lembrando que são objetos imutaveis"
   ]
  },
  {
   "cell_type": "markdown",
   "id": "5cd96559-1c13-49f3-80c7-252de0be1cdb",
   "metadata": {},
   "source": [
    "Geralmente são usadas para trocar(swap) valores de variaveis"
   ]
  },
  {
   "cell_type": "code",
   "execution_count": 26,
   "id": "93d45a9c-214f-4b61-921f-d03521233ccc",
   "metadata": {},
   "outputs": [
    {
     "name": "stdout",
     "output_type": "stream",
     "text": [
      "y x\n",
      "x y\n",
      "y x\n"
     ]
    }
   ],
   "source": [
    "x = \"y\"\n",
    "y = \"x\"\n",
    "print(x,y)\n",
    "# queremos passar o valor de x para y e y para x\n",
    "# podemos usar uma terceira variavel\n",
    "terceira = x\n",
    "x = y\n",
    "y = terceira\n",
    "print(x, y)\n",
    "\n",
    "# trocando novamente\n",
    "(x,y) = (y,x)\n",
    "print(x,y)"
   ]
  },
  {
   "cell_type": "markdown",
   "id": "c379a066-71f1-4c31-a108-ba83ed454361",
   "metadata": {},
   "source": [
    "Usamos tuplas para retornar mais de um objeto em funções, só conseguimos retornar um objeto em uma função, portanto usamos a tupla para resolver esse problema"
   ]
  },
  {
   "cell_type": "code",
   "execution_count": 29,
   "id": "847a01cb-81bc-4cfb-a1d2-fbe790857fd1",
   "metadata": {},
   "outputs": [
    {
     "data": {
      "text/plain": [
       "(0, 1)"
      ]
     },
     "execution_count": 29,
     "metadata": {},
     "output_type": "execute_result"
    }
   ],
   "source": [
    "def quotient_and_remainder(x,y):\n",
    "    q = x // y\n",
    "    r = x % y\n",
    "    return (q,r)\n",
    "\n",
    "quotient_and_remainder(1,2)"
   ]
  },
  {
   "cell_type": "markdown",
   "id": "450c9e0f-5a8f-4d19-8f12-08c420a90bb1",
   "metadata": {},
   "source": [
    "Podemos iterar sobre tuplas, termos tuplas dentro de tuplas, como falamos no começo, é uma coleção de dados"
   ]
  },
  {
   "cell_type": "code",
   "execution_count": 30,
   "id": "c379bd2a-d4f6-406c-b518-e35840bd75d0",
   "metadata": {},
   "outputs": [],
   "source": [
    "# aTuple -> ( (i,s), (i,s), (i,s) )\n",
    "#           int, str\n",
    "def get_data(aTuple):\n",
    "    # criamos duas tuplas vazias\n",
    "    nums = ()\n",
    "    words = ()\n",
    "    # agora iteramos sobre todos elementos da tupla\n",
    "    for t in aTuple:\n",
    "        nums = nums + (t[0],)\n",
    "        if t[1] not in words:\n",
    "            words = words + (t[1],)\n",
    "    min_n = min(nums)\n",
    "    max_n = max(nums)\n",
    "    unique_words = len(words)\n",
    "    return min_n, max_n, unique_words"
   ]
  },
  {
   "cell_type": "markdown",
   "id": "6d278428-6066-463c-bf3c-e23b9c6d8d32",
   "metadata": {},
   "source": [
    "Agora vamos testar a função"
   ]
  },
  {
   "cell_type": "code",
   "execution_count": 33,
   "id": "f7ab8534-4239-46a1-b15b-affe9b608884",
   "metadata": {},
   "outputs": [
    {
     "data": {
      "text/plain": [
       "(2011, 2015, 3)"
      ]
     },
     "execution_count": 33,
     "metadata": {},
     "output_type": "execute_result"
    }
   ],
   "source": [
    "tupla_teste = ((2011, \"eli\"),\n",
    "               (2012, \"eli\"),\n",
    "               (2013, \"eli\"),\n",
    "               (2014, \"odell\"),\n",
    "               (2015, \"obj\"))\n",
    "\n",
    "get_data(tupla_teste)"
   ]
  },
  {
   "cell_type": "markdown",
   "id": "cd05c052-e771-46f1-ab24-0dc75640cea7",
   "metadata": {},
   "source": [
    "### Listas"
   ]
  },
  {
   "cell_type": "markdown",
   "id": "f988a90a-2821-4707-b4ec-cc0c87129ba6",
   "metadata": {},
   "source": [
    "Seguimos algumas regras da tupla, podemos deixar dados de diferentes tipos dentro de uma lista, maaas aqui nós podemos alterar, listas são mutaveis!"
   ]
  },
  {
   "cell_type": "code",
   "execution_count": 36,
   "id": "bb4b530d-e7f8-4d58-8564-ed61e61ce933",
   "metadata": {},
   "outputs": [
    {
     "name": "stdout",
     "output_type": "stream",
     "text": [
      "[1, 2, 3, 4]\n",
      "[0, 2, 3, 4]\n"
     ]
    }
   ],
   "source": [
    "lista = [1,2,3,4]\n",
    "print(lista)\n",
    "\n",
    "lista[0] = 0\n",
    "print(lista)"
   ]
  },
  {
   "cell_type": "markdown",
   "id": "e5f3ff12-c2c3-4c71-9cee-51330174445f",
   "metadata": {},
   "source": [
    "Não temos o caso de precisar de uma virgula, se o elemento está entre colchetes é uma lista."
   ]
  },
  {
   "cell_type": "code",
   "execution_count": 37,
   "id": "d0393a0f-3bea-47e2-8ebb-6ec7bbd0e1de",
   "metadata": {},
   "outputs": [
    {
     "data": {
      "text/plain": [
       "list"
      ]
     },
     "execution_count": 37,
     "metadata": {},
     "output_type": "execute_result"
    }
   ],
   "source": [
    "type( [1] )"
   ]
  },
  {
   "cell_type": "markdown",
   "id": "444c94d2-94d1-43d4-b152-65631541d3dd",
   "metadata": {},
   "source": [
    "Podemos deixar diversos tipos de dados, como falamos no começo"
   ]
  },
  {
   "cell_type": "code",
   "execution_count": 41,
   "id": "868582da-87cb-4839-a7cf-070e3ca2070a",
   "metadata": {},
   "outputs": [
    {
     "data": {
      "text/plain": [
       "[1, 'b', True, [1, 2, 3]]"
      ]
     },
     "execution_count": 41,
     "metadata": {},
     "output_type": "execute_result"
    }
   ],
   "source": [
    "lista = [1, \"b\", True, [1,2,3]]\n",
    "lista"
   ]
  },
  {
   "cell_type": "markdown",
   "id": "f9d2fede-59a9-4c3c-90a8-f877839dab74",
   "metadata": {},
   "source": [
    "Quando mudamos uma lista, continuamos com o mesmo objeto, apenas mudamos o valor daquele indice.\n",
    "A função id() checa a identificação daquele objeto, podemos observar que mesmo após alterar a lista, continua com a mesma identificação do objeto."
   ]
  },
  {
   "cell_type": "code",
   "execution_count": 43,
   "id": "5f84fee9-ba02-4fcb-9621-5c03ae56345d",
   "metadata": {},
   "outputs": [
    {
     "name": "stdout",
     "output_type": "stream",
     "text": [
      "[1, 2, 3]\n",
      "2263612788800\n",
      "[1, 123, 3]\n",
      "2263612788800\n"
     ]
    }
   ],
   "source": [
    "lista = [1,2,3]\n",
    "print(lista)\n",
    "print(id(lista))\n",
    "\n",
    "lista[1] = 123\n",
    "print(lista)\n",
    "print(id(lista))"
   ]
  },
  {
   "cell_type": "markdown",
   "id": "c87e0b6a-4f30-461c-9f19-fed9f4a15592",
   "metadata": {},
   "source": [
    "Como em uma string, nós podemos interar sobre os valores da lista"
   ]
  },
  {
   "cell_type": "code",
   "execution_count": 44,
   "id": "5d6f7960-b994-4039-8e0c-ef5595ddaffe",
   "metadata": {},
   "outputs": [
    {
     "name": "stdout",
     "output_type": "stream",
     "text": [
      "1\n",
      "2\n",
      "3\n"
     ]
    }
   ],
   "source": [
    "lista = [1,2,3]\n",
    "for i in lista:\n",
    "    print(i)"
   ]
  },
  {
   "cell_type": "markdown",
   "id": "ddd87e5b-9e0c-481b-b59b-9cdc8d7e2df7",
   "metadata": {},
   "source": [
    "Possuindo diversas operações que podemos fazer sobre uma lista, por ser mutavel. Conseguindo adicionar novos elementos usando a funçao \"append(novo_elemento)\""
   ]
  },
  {
   "cell_type": "code",
   "execution_count": 47,
   "id": "95a1bf0a-d409-4650-b210-24d45b2165b3",
   "metadata": {},
   "outputs": [
    {
     "data": {
      "text/plain": [
       "[1, 2, 3]"
      ]
     },
     "execution_count": 47,
     "metadata": {},
     "output_type": "execute_result"
    }
   ],
   "source": [
    "lista = [1,2]\n",
    "lista.append(3)\n",
    "lista"
   ]
  },
  {
   "cell_type": "markdown",
   "id": "2a6bb2a0-a5ce-4bf6-8b71-b624b17794f7",
   "metadata": {},
   "source": [
    "Mas pq você usou o \".\", bem como falamos, tudo em python são objetos, um objeto possui atributos e métodos, utilizando o \".\" conseguimos acessar esses métodos e atributos, no caso do append é uma função (até por ter os parenteses indicando uma chamada, um método/função)"
   ]
  },
  {
   "cell_type": "markdown",
   "id": "104c741a-3525-4589-9820-4789cb11dba4",
   "metadata": {},
   "source": [
    "Podemos adicionar elementos usando a operação \"+\" tbm, porém com ela nós criamos uma nova lista e não adicionamos um elemento na lista atual.\n",
    "Veja a diferença nos resultados da função id(), passamos o objeto que desejamos ver sua identificação, note que eles são diferentes, já quando usamos o método append() a identificação continua a mesma."
   ]
  },
  {
   "cell_type": "code",
   "execution_count": 46,
   "id": "2da32c75-c3bd-45c8-a707-725914be4832",
   "metadata": {},
   "outputs": [
    {
     "name": "stdout",
     "output_type": "stream",
     "text": [
      "[1, 2, 3]\n",
      "2263613629760\n",
      "[1, 2, 3, 4, 5, 6]\n",
      "2263614427392\n"
     ]
    }
   ],
   "source": [
    "lista = [1,2,3]\n",
    "print(lista)\n",
    "print(id(lista))\n",
    "\n",
    "lista = lista + [4,5,6]\n",
    "print(lista)\n",
    "print(id(lista))"
   ]
  },
  {
   "cell_type": "code",
   "execution_count": 49,
   "id": "d46a61eb-52ad-49c0-a4a4-6c88ea6ad147",
   "metadata": {},
   "outputs": [
    {
     "name": "stdout",
     "output_type": "stream",
     "text": [
      "2263614491648\n",
      "[1, 2, 3]\n",
      "2263614491648\n"
     ]
    }
   ],
   "source": [
    "lista = [1,2]\n",
    "print(id(lista))\n",
    "\n",
    "lista.append(3)\n",
    "print(lista)\n",
    "print(id(lista))"
   ]
  },
  {
   "cell_type": "markdown",
   "id": "32e9e786-e5cc-4c2e-a60d-d7c19c6741b7",
   "metadata": {},
   "source": [
    "Não conseguimos adicionar os elementos de uma lista com o append(), como argumento do append é passado somente UM objeto, então naquela lista é adicionado aquele objeto."
   ]
  },
  {
   "cell_type": "code",
   "execution_count": 52,
   "id": "9a3cd703-3a4a-4bcd-bfd7-32aa9b490f0f",
   "metadata": {},
   "outputs": [
    {
     "data": {
      "text/plain": [
       "[1, 2, 3, [4, 5, 6]]"
      ]
     },
     "execution_count": 52,
     "metadata": {},
     "output_type": "execute_result"
    }
   ],
   "source": [
    "lista = [1,2,3]\n",
    "lista.append([4,5,6])\n",
    "lista"
   ]
  },
  {
   "cell_type": "markdown",
   "id": "19ad431f-c360-4692-ac75-2fd554378c9e",
   "metadata": {},
   "source": [
    "Para adicionar os elementos de uma lista, usamos o método \"extend()\", ai sim conseguimos adicionar cada elemento da lista em nossa nova lista"
   ]
  },
  {
   "cell_type": "code",
   "execution_count": 54,
   "id": "b01db2fa-7ed7-4a60-a0ff-ee45f2344594",
   "metadata": {},
   "outputs": [
    {
     "data": {
      "text/plain": [
       "[1, 2, 3, 4, 5, 6]"
      ]
     },
     "execution_count": 54,
     "metadata": {},
     "output_type": "execute_result"
    }
   ],
   "source": [
    "lista = [1,2,3]\n",
    "lista.extend([4,5,6])\n",
    "lista"
   ]
  },
  {
   "cell_type": "markdown",
   "id": "d8dbe814-81d5-4178-83e3-9647871729e5",
   "metadata": {},
   "source": [
    "Mas não podemos somente adicionar elementos na lista né, conseguimos tbm remover elementos das listas.\n",
    "\n",
    "Para remover algum elemento de certo indice, podemos usar o del(lista\\[indice\\])"
   ]
  },
  {
   "cell_type": "code",
   "execution_count": 56,
   "id": "ba466839-5e94-4d59-88e8-78fa5e85003c",
   "metadata": {},
   "outputs": [
    {
     "data": {
      "text/plain": [
       "[1, 2, 3]"
      ]
     },
     "execution_count": 56,
     "metadata": {},
     "output_type": "execute_result"
    }
   ],
   "source": [
    "lista = [0,1,2,3]\n",
    "del(lista[0])\n",
    "lista"
   ]
  },
  {
   "cell_type": "markdown",
   "id": "fb149abc-c5c4-449b-a075-16da7a1cecc6",
   "metadata": {},
   "source": [
    "Ou o .pop() para remover o ultimo elemento da lista"
   ]
  },
  {
   "cell_type": "code",
   "execution_count": 60,
   "id": "b6424127-6373-42f0-96c6-388067764497",
   "metadata": {},
   "outputs": [
    {
     "data": {
      "text/plain": [
       "[1, 2]"
      ]
     },
     "execution_count": 60,
     "metadata": {},
     "output_type": "execute_result"
    }
   ],
   "source": [
    "lista = [1,2,3]\n",
    "lista.pop() # ele retorna o elemento que tirou tbm, pode passar para uma variavel\n",
    "lista"
   ]
  },
  {
   "cell_type": "markdown",
   "id": "aa475149-291a-4e4b-a538-c7334ee061a8",
   "metadata": {},
   "source": [
    "Ou remover um elemento especifico utilizando o .remove(elemento)"
   ]
  },
  {
   "cell_type": "code",
   "execution_count": 59,
   "id": "3178abee-e0ec-4e59-bc90-f86320961f18",
   "metadata": {},
   "outputs": [
    {
     "data": {
      "text/plain": [
       "[1, 3]"
      ]
     },
     "execution_count": 59,
     "metadata": {},
     "output_type": "execute_result"
    }
   ],
   "source": [
    "lista = [1,2,3]\n",
    "lista.remove(2)\n",
    "lista"
   ]
  },
  {
   "cell_type": "markdown",
   "id": "e7ffa64b-9458-40d5-82e5-949a4296b25d",
   "metadata": {},
   "source": [
    "Acabamos de ver funções que chamamos a partir de uma lista, vamos comentar novamente, tudo em python são objetos, então a lista possui métodos/funções, que acessamos com o \".\""
   ]
  },
  {
   "cell_type": "markdown",
   "id": "b9db4b39-5712-47b2-81fe-dc232f53ddf5",
   "metadata": {},
   "source": [
    "Podemos converter strings para listas e fazer o caminho reverso, utilizando tbm mais de um método para conseguir tal. Começando com o padrão, passando a função list(objeto_desejado), devolvendo uma lista com aquele objeto, se for uma string, ele passa toda a string como elemento individual na lista."
   ]
  },
  {
   "cell_type": "code",
   "execution_count": 61,
   "id": "321b314a-d7bc-4e59-9356-01623de4e985",
   "metadata": {},
   "outputs": [
    {
     "data": {
      "text/plain": [
       "['o', 'i', ' ', 'o', 'i', 'a', 's', 'd', 'f', ' ', 'o', 'i']"
      ]
     },
     "execution_count": 61,
     "metadata": {},
     "output_type": "execute_result"
    }
   ],
   "source": [
    "s = \"oi oiasdf oi\"\n",
    "list(s)"
   ]
  },
  {
   "cell_type": "markdown",
   "id": "79de9aa5-59ad-4efe-9b26-d39b3348d6f4",
   "metadata": {},
   "source": [
    "Usando tbm o .split(), esse método é acessado por uma string, \"quebrando\" ela pelo argumento que escolhermos e transformando em uma lista, como por exemplo"
   ]
  },
  {
   "cell_type": "code",
   "execution_count": 63,
   "id": "dc602b50-ece2-4d13-af9a-4a2a660f9f5b",
   "metadata": {},
   "outputs": [
    {
     "name": "stdout",
     "output_type": "stream",
     "text": [
      "isso e uma string\n",
      "['isso', 'e', 'uma', 'string']\n"
     ]
    }
   ],
   "source": [
    "string = 'isso e uma string'\n",
    "print(string)\n",
    "lista = string.split(\" \")\n",
    "print(lista)"
   ]
  },
  {
   "cell_type": "markdown",
   "id": "2e1ce1a0-0786-4f38-97af-f123d6288a90",
   "metadata": {},
   "source": [
    "Podemos transformar tbm uma lista em uma string, um dos métodos para fazer isso é o join(), ele tbm é acessado por uma string, ele é um pouco mais \"complicado\", pois a string que for acessada vai funcionar como separador, veja só"
   ]
  },
  {
   "cell_type": "code",
   "execution_count": 66,
   "id": "707e61ff-2af5-4891-a725-e6b71f490b7c",
   "metadata": {},
   "outputs": [
    {
     "data": {
      "text/plain": [
       "'abc'"
      ]
     },
     "execution_count": 66,
     "metadata": {},
     "output_type": "execute_result"
    }
   ],
   "source": [
    "\"\".join([\"a\",\"b\",\"c\"])"
   ]
  },
  {
   "cell_type": "code",
   "execution_count": 67,
   "id": "70c64983-d896-4a21-9902-8f825928cc37",
   "metadata": {},
   "outputs": [
    {
     "data": {
      "text/plain": [
       "'a, b, c'"
      ]
     },
     "execution_count": 67,
     "metadata": {},
     "output_type": "execute_result"
    }
   ],
   "source": [
    "\", \".join([\"a\",\"b\",\"c\"])"
   ]
  },
  {
   "cell_type": "code",
   "execution_count": 68,
   "id": "8962be0f-c697-46ae-a66c-aa3aa8bd316f",
   "metadata": {},
   "outputs": [
    {
     "data": {
      "text/plain": [
       "'a - - b - - c'"
      ]
     },
     "execution_count": 68,
     "metadata": {},
     "output_type": "execute_result"
    }
   ],
   "source": [
    "\" - - \".join([\"a\",\"b\",\"c\"])"
   ]
  },
  {
   "cell_type": "markdown",
   "id": "9ea44586-bad5-4ee2-9493-c9e18bd10e5e",
   "metadata": {},
   "source": [
    "A string serve como argumento para adicionar entre cada elemento da string, não conseguimos usar o join() com uma lista de inteiros ou outro tipo que não seja string, da mesma forma que não conseguimos fazer uma operação entre string e objeto numerico."
   ]
  },
  {
   "cell_type": "code",
   "execution_count": 69,
   "id": "6944df01-3ed7-4c33-8f24-6c0b70455bea",
   "metadata": {},
   "outputs": [
    {
     "ename": "TypeError",
     "evalue": "sequence item 0: expected str instance, int found",
     "output_type": "error",
     "traceback": [
      "\u001b[1;31m---------------------------------------------------------------------------\u001b[0m",
      "\u001b[1;31mTypeError\u001b[0m                                 Traceback (most recent call last)",
      "\u001b[1;32m~\\AppData\\Local\\Temp/ipykernel_10120/2766715208.py\u001b[0m in \u001b[0;36m<module>\u001b[1;34m\u001b[0m\n\u001b[1;32m----> 1\u001b[1;33m \u001b[1;34m\"\"\u001b[0m\u001b[1;33m.\u001b[0m\u001b[0mjoin\u001b[0m\u001b[1;33m(\u001b[0m\u001b[1;33m[\u001b[0m\u001b[1;36m1\u001b[0m\u001b[1;33m,\u001b[0m\u001b[1;34m\"b\"\u001b[0m\u001b[1;33m,\u001b[0m\u001b[1;34m\"c\"\u001b[0m\u001b[1;33m]\u001b[0m\u001b[1;33m)\u001b[0m\u001b[1;33m\u001b[0m\u001b[1;33m\u001b[0m\u001b[0m\n\u001b[0m",
      "\u001b[1;31mTypeError\u001b[0m: sequence item 0: expected str instance, int found"
     ]
    }
   ],
   "source": [
    "\"\".join([1,\"b\",\"c\"])"
   ]
  },
  {
   "cell_type": "code",
   "execution_count": 70,
   "id": "231ce59e-4d4b-4153-a436-6394bdfcae7a",
   "metadata": {},
   "outputs": [
    {
     "ename": "TypeError",
     "evalue": "can only concatenate str (not \"int\") to str",
     "output_type": "error",
     "traceback": [
      "\u001b[1;31m---------------------------------------------------------------------------\u001b[0m",
      "\u001b[1;31mTypeError\u001b[0m                                 Traceback (most recent call last)",
      "\u001b[1;32m~\\AppData\\Local\\Temp/ipykernel_10120/740093239.py\u001b[0m in \u001b[0;36m<module>\u001b[1;34m\u001b[0m\n\u001b[1;32m----> 1\u001b[1;33m \u001b[1;34m\"\"\u001b[0m \u001b[1;33m+\u001b[0m \u001b[1;36m1\u001b[0m\u001b[1;33m\u001b[0m\u001b[1;33m\u001b[0m\u001b[0m\n\u001b[0m",
      "\u001b[1;31mTypeError\u001b[0m: can only concatenate str (not \"int\") to str"
     ]
    }
   ],
   "source": [
    "\"\" + 1"
   ]
  },
  {
   "cell_type": "markdown",
   "id": "02a32a41-eeb3-4a01-9f1d-55f307901d45",
   "metadata": {},
   "source": [
    "Recebemos um erro ao tentar uma operação entre string e númericos, como vimos nas primeiras aulas. Segue a regra"
   ]
  },
  {
   "cell_type": "markdown",
   "id": "f61d3ccf-7bba-4511-8773-abf55a665dce",
   "metadata": {},
   "source": [
    "Conseguimos ordenar as listas tbm, para isso temos duas funções a sort() e a sorted()"
   ]
  },
  {
   "cell_type": "markdown",
   "id": "9a0f0640-c0ee-400f-870d-418dab7e9054",
   "metadata": {},
   "source": [
    "O sort() é acessado pela propria lista, ou seja, ele altera o valor daquela lista para uma lista ordenada."
   ]
  },
  {
   "cell_type": "code",
   "execution_count": 75,
   "id": "b06db59f-3371-4ce3-8559-3aea55deaf1c",
   "metadata": {},
   "outputs": [
    {
     "data": {
      "text/plain": [
       "[1, 2, 3, 4]"
      ]
     },
     "execution_count": 75,
     "metadata": {},
     "output_type": "execute_result"
    }
   ],
   "source": [
    "lista_desordenada = [4,3,2,1]\n",
    "lista_desordenada.sort()\n",
    "lista_desordenada"
   ]
  },
  {
   "cell_type": "markdown",
   "id": "81e554e8-4416-4c99-a8ff-701d8015c6f3",
   "metadata": {},
   "source": [
    "Já o sorted() é uma função do python, você passa como argumento uma lista e ele devolve aquela lista ordenada, ele não altera a lista que passamos e sim gera uma nova"
   ]
  },
  {
   "cell_type": "code",
   "execution_count": 74,
   "id": "694bab3b-0a33-49e0-a8f7-c9eb7176ca57",
   "metadata": {},
   "outputs": [
    {
     "data": {
      "text/plain": [
       "[1, 2, 3, 4]"
      ]
     },
     "execution_count": 74,
     "metadata": {},
     "output_type": "execute_result"
    }
   ],
   "source": [
    "lista_desordenada = [4,3,2,1]\n",
    "sorted(lista_desordenada)"
   ]
  },
  {
   "cell_type": "markdown",
   "id": "8c0d5614-11bc-4565-8703-c5c1df6752cf",
   "metadata": {},
   "source": [
    "Como tbm conseguimos reverter a lista, usando a função reverse(), ela é de acesso, então ela modifica a propria lista"
   ]
  },
  {
   "cell_type": "code",
   "execution_count": 77,
   "id": "1e039283-e2eb-414c-9ff5-c233cd63e4b5",
   "metadata": {},
   "outputs": [
    {
     "data": {
      "text/plain": [
       "[4, 3, 2, 1]"
      ]
     },
     "execution_count": 77,
     "metadata": {},
     "output_type": "execute_result"
    }
   ],
   "source": [
    "lista = [1,2,3,4]\n",
    "lista.reverse()\n",
    "lista"
   ]
  },
  {
   "cell_type": "markdown",
   "id": "a6d74f6e-7e9e-4cb2-ada4-c57fffcb0cf5",
   "metadata": {},
   "source": [
    "Quando estamos lidando com listas, precisamos ter noção de quais efeitos esperamos que ocorra, se estamos modificando uma lista, oq esperamos que aconteça com ela, com as variaveis dentro dela, quais as consequencias de uma mudança."
   ]
  },
  {
   "cell_type": "markdown",
   "id": "877fd609-af6a-4d75-8fff-be627b591f7e",
   "metadata": {},
   "source": [
    "Vamos fazer uma analogia com pessoas"
   ]
  },
  {
   "cell_type": "markdown",
   "id": "2a647613-de52-4d7d-ac34-2a105d5a79fa",
   "metadata": {},
   "source": [
    "Como em python tudo são objetos, pessoas tbm são objetos.\n",
    "- Pessoa possui diversos atributos\n",
    "- Pessoa possui diversos apelidos\n",
    "- Todos os apelidos apontam para a mesma pessoa"
   ]
  },
  {
   "cell_type": "code",
   "execution_count": 79,
   "id": "ebb91d91-1dec-4645-bf44-ed2bd30bd3f2",
   "metadata": {},
   "outputs": [
    {
     "name": "stdout",
     "output_type": "stream",
     "text": [
      "['pessoa maravilhosa', 'pessoa incrivel']\n"
     ]
    }
   ],
   "source": [
    "# vamos declarar você aqui e trabalhar cntg <3\n",
    "voce = [\"pessoa maravilhosa\", \"pessoa incrivel\"]\n",
    "print(voce)"
   ]
  },
  {
   "cell_type": "markdown",
   "id": "62202233-c906-49ea-b213-d67d65eb39aa",
   "metadata": {},
   "source": [
    "Então você possui dois atributos, agora digamos que queremos aumentar o número de atributos para você, apontando para o mesmo objeto."
   ]
  },
  {
   "cell_type": "code",
   "execution_count": 81,
   "id": "8b2d0b8b-ec52-4400-80f6-34ca67da805c",
   "metadata": {},
   "outputs": [],
   "source": [
    "voce.append(\"pessoa diferenciada\")"
   ]
  },
  {
   "cell_type": "markdown",
   "id": "082ccc7d-60e6-4f43-8184-51113e168206",
   "metadata": {},
   "source": [
    "Podemos ter mais de uma forma de chamar você, porem não altera que ainda estamos falando sobre você, é o mesmo objeto. Só muda a forma de charmarmos, um apelido digamos"
   ]
  },
  {
   "cell_type": "code",
   "execution_count": 84,
   "id": "05c3e85d-f8b7-44be-9734-75617785c0f8",
   "metadata": {},
   "outputs": [
    {
     "name": "stdout",
     "output_type": "stream",
     "text": [
      "['pessoa maravilhosa', 'pessoa incrivel', 'pessoa diferenciada']\n",
      "['pessoa maravilhosa', 'pessoa incrivel', 'pessoa diferenciada']\n"
     ]
    }
   ],
   "source": [
    "apelido_seu = voce\n",
    "print(apelido_seu)\n",
    "\n",
    "tu = apelido_seu\n",
    "print(tu)"
   ]
  },
  {
   "cell_type": "markdown",
   "id": "d48a9721-b88e-45e2-9b97-90b3efb6956c",
   "metadata": {},
   "source": [
    "Interessante nao? Agora vamos entrar um pouco mais nesse assunto"
   ]
  },
  {
   "cell_type": "markdown",
   "id": "8f7e30c6-f61e-4e88-84eb-b291f469dbf6",
   "metadata": {},
   "source": [
    "### Apelidos (aliases)"
   ]
  },
  {
   "cell_type": "markdown",
   "id": "ec051a21-470f-441b-a2fa-57f78cc33ab8",
   "metadata": {},
   "source": [
    "Estamos criando uma nova variavel e passando como referencia uma variavel, importante ficar claro que mesmo com a nova variavel sendo criada, ela está referenciado uma, então qualquer modificação na variavel principal (que está sendo referenciada) é tbm alterada na variavel \"apelido\" "
   ]
  },
  {
   "cell_type": "code",
   "execution_count": 85,
   "id": "3a86c7bc-4bbb-4bfa-89c9-b32f62495206",
   "metadata": {},
   "outputs": [
    {
     "name": "stdout",
     "output_type": "stream",
     "text": [
      "1\n",
      "1\n",
      "['red', 'yellow', 'orange', 'pink']\n",
      "['red', 'yellow', 'orange', 'pink']\n"
     ]
    }
   ],
   "source": [
    "a = 1\n",
    "b = a\n",
    "print(a)\n",
    "print(b)\n",
    "\n",
    "warm = [\"red\",\"yellow\",\"orange\"]\n",
    "hot = warm\n",
    "hot.append(\"pink\")\n",
    "print(hot)\n",
    "print(warm)"
   ]
  },
  {
   "cell_type": "markdown",
   "id": "460f3229-1253-4b33-bd15-509f9b48a6af",
   "metadata": {},
   "source": [
    "Esperamos que com o exemplo acabou ficando um pouco mais tranquilo de visualizar isso, não importa se passamos para uma nova variavel uma lista, ambas as variaveis estão apontando para o MESMO OBJETO, então se formos modificar a variavel \"hot\" ou \"warm\", todas as modificações vão para a mesma lista, ou melhor falando, o mesmo objeto."
   ]
  },
  {
   "cell_type": "code",
   "execution_count": 88,
   "id": "3a4ba69c-4de9-452c-8ef0-4cda8db1bae1",
   "metadata": {},
   "outputs": [
    {
     "name": "stdout",
     "output_type": "stream",
     "text": [
      "2263646308224\n",
      "2263646308224\n"
     ]
    },
    {
     "data": {
      "text/plain": [
       "[1, 2, 3, 4]"
      ]
     },
     "execution_count": 88,
     "metadata": {},
     "output_type": "execute_result"
    }
   ],
   "source": [
    "lista = [1,2,3]\n",
    "referencia_lista = lista\n",
    "referencia_lista.append(4)\n",
    "print(id(referencia_lista))\n",
    "print(id(lista))\n",
    "lista"
   ]
  },
  {
   "cell_type": "markdown",
   "id": "48940748-03fe-45ce-be64-e29dc261d830",
   "metadata": {},
   "source": [
    "Para não passar por esse problema, nós podemos clonar os objetos, assim conseguimos aquele valor, alterar ele e não alteramos o valor \"principal\", uma forma de fazer isso com listas é passando um slice por toda a lista."
   ]
  },
  {
   "cell_type": "code",
   "execution_count": 93,
   "id": "3c98f32f-9c24-4a22-82c4-544ca0d10d1b",
   "metadata": {},
   "outputs": [
    {
     "name": "stdout",
     "output_type": "stream",
     "text": [
      "[1, 2, 3]\n",
      "[1, 2, 3, 4]\n"
     ]
    }
   ],
   "source": [
    "lista = [1,2,3]\n",
    "lista_copia = lista[:]\n",
    "lista_copia.append(4)\n",
    "print(lista)\n",
    "print(lista_copia)"
   ]
  },
  {
   "cell_type": "markdown",
   "id": "94040130-55e1-4caf-ae0c-8c20086f5f17",
   "metadata": {},
   "source": [
    "Veja que conseguimos alterar o valor da lista que foi copiada, sem alterar a lista principal, mantendo ela a salva das alterações."
   ]
  },
  {
   "cell_type": "markdown",
   "id": "d5004492-e846-46a3-a78f-4d1409e8ca32",
   "metadata": {},
   "source": [
    "Lembra das funções de sort() e sorted(), vamos fazer oq ocorrem com elas.\n",
    "Primeiro a sort()"
   ]
  },
  {
   "cell_type": "code",
   "execution_count": 95,
   "id": "14a40bf9-05f1-41dc-9d37-1e130aaf39d6",
   "metadata": {},
   "outputs": [
    {
     "name": "stdout",
     "output_type": "stream",
     "text": [
      "['a', 'b', 'c']\n",
      "None\n"
     ]
    }
   ],
   "source": [
    "lista = [\"c\",\"a\",\"b\"]\n",
    "lista_sort = lista.sort()\n",
    "print(lista)\n",
    "print(lista_sort)"
   ]
  },
  {
   "cell_type": "markdown",
   "id": "5d379090-1923-43df-85e6-e51890a11f4d",
   "metadata": {},
   "source": [
    "Como falamos na primeira vez, o método sort() age na propria lista, ela não retorna algo, ela apenas modifica a lista original, retornando nada.\n",
    "\n",
    "Agora o sorted()"
   ]
  },
  {
   "cell_type": "code",
   "execution_count": 96,
   "id": "7b1b6da0-e726-42a4-af3f-3d38e059a96b",
   "metadata": {},
   "outputs": [
    {
     "name": "stdout",
     "output_type": "stream",
     "text": [
      "['c', 'b', 'a']\n",
      "['a', 'b', 'c']\n"
     ]
    }
   ],
   "source": [
    "lista = [\"c\",\"b\",\"a\"]\n",
    "lista_sorted = sorted(lista)\n",
    "print(lista)\n",
    "print(lista_sorted)"
   ]
  },
  {
   "cell_type": "markdown",
   "id": "037de65e-b705-4d92-90e3-786805a92137",
   "metadata": {},
   "source": [
    "Agora simm, seguindo a regra, a sorted é uma função built-in do python, ela possui sim um retorno que no caso é o objeto ordenado, mantendo o valor \"original\" como estava, apenas retornando o novo objeto"
   ]
  },
  {
   "cell_type": "markdown",
   "id": "dad4d100-6b9e-400a-b1af-c8ac2a3ed498",
   "metadata": {},
   "source": [
    "Bem, nós tbm podemos criar listas \"aninhadas\" (nested), que seria listas dentro de listas, igual fizemos naquela função com as tuplas, bora ver"
   ]
  },
  {
   "cell_type": "code",
   "execution_count": 106,
   "id": "34a7877f-2033-441e-9591-6dbbb54297c5",
   "metadata": {},
   "outputs": [
    {
     "data": {
      "text/plain": [
       "[[1, [2], 3], [1, [2], 3], [1, [2], 3]]"
      ]
     },
     "execution_count": 106,
     "metadata": {},
     "output_type": "execute_result"
    }
   ],
   "source": [
    "lista = [1,[2],3]\n",
    "lista_nova = [lista] * 3\n",
    "lista_nova"
   ]
  },
  {
   "cell_type": "markdown",
   "id": "3865bed9-4938-4995-ac6a-a81c61a7411f",
   "metadata": {},
   "source": [
    "Veja no exemplo abaixo, como podemos estar adicionado uma lista dentro de outra lista e tbm"
   ]
  },
  {
   "cell_type": "code",
   "execution_count": 110,
   "id": "162b0dbd-d548-4794-9724-94c935d50ce6",
   "metadata": {},
   "outputs": [
    {
     "name": "stdout",
     "output_type": "stream",
     "text": [
      "['yellow', 'orange', ['red']]\n",
      "['red', 'pink']\n",
      "['yellow', 'orange', ['red', 'pink']]\n"
     ]
    }
   ],
   "source": [
    "warm = [\"yellow\", \"orange\"]\n",
    "hot = [\"red\"]\n",
    "brightcolors = warm\n",
    "brightcolors.append(hot)\n",
    "print(brightcolors)\n",
    "hot.append(\"pink\")\n",
    "print(hot)\n",
    "print(brightcolors)"
   ]
  },
  {
   "cell_type": "markdown",
   "id": "4e1da111-c154-4a99-9416-bb1bc04b867b",
   "metadata": {},
   "source": [
    "Chamamos a lista \"brightcolors\" duas vezes, na primeira vez a lista \"hot\" havia somente um elemento, depois é adicionado mais um elemento e chamamos novamente a \"brightcolors\", mostrando ela com o novo valor da lista \"hot\", a gente não alterou a \"brightcolors\", mas por nela ter como referencia a lista \"hot\" e ela sim foi alterada, acaba tbm alterando ela dentro da \"brightcolors\""
   ]
  },
  {
   "cell_type": "markdown",
   "id": "77de1bdf-42d2-442a-af42-50159e1fcf17",
   "metadata": {},
   "source": [
    "Precisamos cuidar com isso quando quremos iterar sobre uma lista, ainda se aquela iteração pode acabar gerando uma mudança na lista, é preciso estar atento de como o python trata, vamos ver esse exemplo abaixo"
   ]
  },
  {
   "cell_type": "code",
   "execution_count": 112,
   "id": "da3f988d-551c-4af9-85db-883538adba62",
   "metadata": {},
   "outputs": [
    {
     "name": "stdout",
     "output_type": "stream",
     "text": [
      "[2, 3, 4]\n",
      "[1, 2, 5, 6]\n"
     ]
    }
   ],
   "source": [
    "l1 = [1,2,3,4]\n",
    "l2 = [1,2,5,6]\n",
    "\n",
    "def remove_dups(l1,l2):\n",
    "    for e in l1:\n",
    "        if e in l2:\n",
    "            l1.remove(e)\n",
    "            \n",
    "remove_dups(l1,l2)\n",
    "print(l1)\n",
    "print(l2)"
   ]
  },
  {
   "cell_type": "markdown",
   "id": "e93a802a-16f7-4847-9514-a35989680f05",
   "metadata": {},
   "source": [
    "Veja que ele não tirou o valor \"2\", isso acaba acontecendo pq o python tem um contador interno para manter o traqueamento dentro do loop, então ao passar pela primeira vez e tirar o valor do indice 0, ele passou para o indice 1, mas como a lista original foi alterada, o valor do indice 1 era o \"3\" e não mais o \"2\"."
   ]
  },
  {
   "cell_type": "markdown",
   "id": "3b15606c-47ba-40d4-860d-c7f8313cdff6",
   "metadata": {},
   "source": [
    "primeira iteração -> indice 0<br>\n",
    "l1 => \\[1,2,3,4\\]<br>\n",
    "l1\\[0\\] => 1<br>\n",
    "\"1\" está na l2, portanto o valor é removido da l1, ficando<br>\n",
    "l1 => \\[2,3,4\\] -> é a lista que vai ser iterada novamente<br>\n",
    "<br>\n",
    "segunda iteração -> indice 1<br>\n",
    "l1 => \\[2,3,4\\]<br>\n",
    "l1\\[1\\] => 3<br>\n",
    "\"3\" não está na l2, portanto mantem, mas veja que ele pulou o número \"2\", nem checando se ele está ou n na l2<br>\n",
    "l1 => \\[2,3,4\\]<br>\n",
    "<br>\n",
    "\n",
    "..."
   ]
  },
  {
   "cell_type": "markdown",
   "id": "cd7d0fac-323b-4b23-ae2c-65f31f5d51f6",
   "metadata": {},
   "source": [
    "Ou seja, mudar uma lista acaba alterar o tamanho da lista, porem python não altera o contador."
   ]
  },
  {
   "cell_type": "markdown",
   "id": "37464385-8ee4-4cac-82f8-dafef6edad24",
   "metadata": {},
   "source": [
    "# EXERCICIOS"
   ]
  },
  {
   "cell_type": "markdown",
   "id": "9b8e7e60-77d8-4319-9e56-db8bfa4a5bf0",
   "metadata": {},
   "source": [
    "### Ex. 1) Examine o código abaixo. O que <b>always_sunny(('cloudy'), ('cold',))</b> avalia?\n",
    "\n",
    "<code>def always_sunny(t1,t2):\n",
    "    sun = (\"sunny\",\"sun\")\n",
    "    first = t1[0] + t2[0]\n",
    "    return (sun[0],first)</code>\n",
    "    \n",
    "- [ ] ('sunny', 'cc') \n",
    "- [x] ('sunny', 'ccold') \n",
    "- [ ] ('sunny', 'cloudycold') "
   ]
  },
  {
   "cell_type": "markdown",
   "id": "7cd3444c-d72a-4da6-af2c-46b05223685d",
   "metadata": {},
   "source": [
    "Cuidar que na primeira \"tupla\" é somente uma string, não possui uma virgula ao final, uma tupla de um elemento sem virgula, não é uma tupla, por isso retorna somente o \"c\". Já na segunda tupla que realmente é uma tupla, ele retorna a palavra \"cold\" que é o elemento do indice 0."
   ]
  },
  {
   "cell_type": "code",
   "execution_count": 113,
   "id": "bce0922e-3b87-4b1f-9288-930e39b96188",
   "metadata": {},
   "outputs": [
    {
     "data": {
      "text/plain": [
       "('sunny', 'ccold')"
      ]
     },
     "execution_count": 113,
     "metadata": {},
     "output_type": "execute_result"
    }
   ],
   "source": [
    "def always_sunny(t1,t2):\n",
    "    sun = (\"sunny\",\"sun\")\n",
    "    first = t1[0] + t2[0]\n",
    "    return (sun[0],first)\n",
    "\n",
    "always_sunny((\"cloudy\"),(\"cold\",))"
   ]
  },
  {
   "cell_type": "markdown",
   "id": "bf90e686-5f94-4324-ba52-ce54651f3f03",
   "metadata": {},
   "source": [
    "### Ex. 2) What is the value of L after you run the code below?\n",
    "\n",
    "<code>L = [\"life\", \"answer\", 42, 0]\n",
    "    for thing in L:\n",
    "        if thing == 0:\n",
    "            l[thing] = \"universe\"\n",
    "        elif thing == 42:\n",
    "            l[1] = \"everthing\"</code>\n",
    "    \n",
    "- [ ] \\[\"life\", \"answer\", 42, 0\\]\n",
    "- [ ] \\[\"universe\", \"answer\", 42, 0\\]\n",
    "- [x] \\[\"universe\", \"everthing\", 42, 0\\]\n",
    "- [ ] \\[\"life\", \"everthing\", 42, 0\\]"
   ]
  },
  {
   "cell_type": "markdown",
   "id": "1274667c-ac09-41e3-a401-125c170560ff",
   "metadata": {},
   "source": [
    "Altera primeiro o valor no indice 1, colocando o everthing, depois altera o valor no indice 0, l\\[0\\], passando a string \"unverse\" no começo da lista"
   ]
  },
  {
   "cell_type": "code",
   "execution_count": 116,
   "id": "710df398-8232-46db-b8ef-861d719ef02c",
   "metadata": {},
   "outputs": [
    {
     "data": {
      "text/plain": [
       "['universe', 'everthing', 42, 0]"
      ]
     },
     "execution_count": 116,
     "metadata": {},
     "output_type": "execute_result"
    }
   ],
   "source": [
    "L = [\"life\", \"answer\", 42, 0]\n",
    "for thing in L:\n",
    "    if thing == 0:\n",
    "        L[thing] = \"universe\"\n",
    "    elif thing == 42:\n",
    "        L[1] = \"everthing\"\n",
    "L  "
   ]
  },
  {
   "cell_type": "markdown",
   "id": "f203e1a3-2e09-4c38-b001-4f2af65638eb",
   "metadata": {},
   "source": [
    "### Ex. 3) What is the value of L3 after you execute all the operations in the code below?\n",
    "\n",
    "<code>L1 = ['re']\n",
    "L2 = ['mi']\n",
    "L3 = ['do']\n",
    "L4 = L1 + L2\n",
    "L3.extend(L4)\n",
    "L3.sort()\n",
    "del(L3[0])\n",
    "L3.append([\"fa\",\"la\"])</code>\n",
    "    \n",
    "- [x] \\['mi', 're', \\['fa', 'la'\\]\\]\n",
    "- [ ] \\['mi', 're', 'fa', 'la'\\]\n",
    "- [ ] \\['re', 'mi', \\['fa', 'la'\\]\\]\n",
    "- [ ] \\['do', 'mi', \\['fa', 'la'\\]\\]"
   ]
  },
  {
   "cell_type": "markdown",
   "id": "7cc7cae4-98c1-4e88-85b0-768133dc4144",
   "metadata": {},
   "source": [
    "l3 começa com um elemento somente o \"do\", depois é adicionado os elementos \"re e \"mi, ficando \\[\"do\",\"re\",\"mi\"\\]. sendo ordenado alterando a posicao do \"re\" e \"mi\", após é deletado o primeiro indice, tirando o \"do\" e por fim é adicionado uma lista ao final contendo o \\[\"fa\",\"la\"\\] "
   ]
  },
  {
   "cell_type": "code",
   "execution_count": 121,
   "id": "10951a4d-2301-468c-a2a4-300b412ffcbd",
   "metadata": {},
   "outputs": [
    {
     "name": "stdout",
     "output_type": "stream",
     "text": [
      "['do', 'mi', 're']\n"
     ]
    },
    {
     "data": {
      "text/plain": [
       "['mi', 're', ['fa', 'la']]"
      ]
     },
     "execution_count": 121,
     "metadata": {},
     "output_type": "execute_result"
    }
   ],
   "source": [
    "L1 = ['re'] \n",
    "L2 = ['mi']\n",
    "L3 = ['do']\n",
    "L4 = L1 + L2\n",
    "L3.extend(L4)\n",
    "L3.sort()\n",
    "del(L3[0])\n",
    "L3.append([\"fa\",\"la\"])\n",
    "L3"
   ]
  },
  {
   "cell_type": "markdown",
   "id": "177bbb75-e8b2-4dfd-91aa-ffe937a21a59",
   "metadata": {},
   "source": [
    "### Ex. 4) What is the value of brunch after you execute all the operations in the code below?\n",
    "\n",
    "<code>l1 = [\"bacon\",\"eggs\"]\n",
    "l2 = [\"toast\", \"jam\"]\n",
    "brunch = l1\n",
    "l1.append(\"juice\")\n",
    "brunch.extend(l2)</code>\n",
    "    \n",
    "- [ ] \\['bacon', 'eggs', 'toast', 'jam'\\]\n",
    "- [x] \\['bacon', 'eggs', 'juice', 'toast', 'jam'\\]\n",
    "- [ ] \\['bacon', 'eggs', 'juice', \\['toast', 'jam'\\]\\]\n",
    "- [ ] \\['bacon', 'eggs', \\['toast', 'jam'\\]\\]"
   ]
  },
  {
   "cell_type": "markdown",
   "id": "43276abb-ce0d-4c09-ba63-b1e832562aab",
   "metadata": {},
   "source": [
    "Lembrando que o extend() adiciona os elementos que passamos como parametro, já o append() sim que adiciona todo o elemento que foi passado, por isso é adicionado primeiro o \"juice\" e depois adicionamos o \"toast\" e \"jam\""
   ]
  },
  {
   "cell_type": "code",
   "execution_count": 124,
   "id": "09aeee2c-1ee4-4dae-8141-2d76cabecb37",
   "metadata": {},
   "outputs": [
    {
     "data": {
      "text/plain": [
       "['bacon', 'eggs', 'juice', 'toast', 'jam']"
      ]
     },
     "execution_count": 124,
     "metadata": {},
     "output_type": "execute_result"
    }
   ],
   "source": [
    "l1 = [\"bacon\",\"eggs\"]\n",
    "l2 = [\"toast\", \"jam\"]\n",
    "brunch = l1\n",
    "l1.append(\"juice\")\n",
    "brunch.extend(l2)\n",
    "brunch"
   ]
  }
 ],
 "metadata": {
  "kernelspec": {
   "display_name": "Python 3 (ipykernel)",
   "language": "python",
   "name": "python3"
  },
  "language_info": {
   "codemirror_mode": {
    "name": "ipython",
    "version": 3
   },
   "file_extension": ".py",
   "mimetype": "text/x-python",
   "name": "python",
   "nbconvert_exporter": "python",
   "pygments_lexer": "ipython3",
   "version": "3.10.1"
  }
 },
 "nbformat": 4,
 "nbformat_minor": 5
}
