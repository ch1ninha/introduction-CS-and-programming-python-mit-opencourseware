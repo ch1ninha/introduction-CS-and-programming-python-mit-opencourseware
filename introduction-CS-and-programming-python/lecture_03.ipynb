{
 "cells": [
  {
   "cell_type": "markdown",
   "id": "157c40c4-d30c-4826-893a-237acc186d33",
   "metadata": {},
   "source": [
    "# STRING MANIPULATION, GUESS AND CHECK, APPROXIMATIONS, BISECTION"
   ]
  },
  {
   "cell_type": "markdown",
   "id": "4bdcbec3-caf9-441c-8034-864b16282796",
   "metadata": {},
   "source": [
    "## Nossa visão sobre a aula "
   ]
  },
  {
   "cell_type": "markdown",
   "id": "9388846a-a997-442e-95e6-3a0553cb375e",
   "metadata": {},
   "source": [
    "branching = usar da decisão.<br>\n",
    "strings = sequencia de caracteres<br>\n",
    "python, so strings tbm são objetos, podemos tbm comparar strings.<br>\n",
    "\n",
    "len() => qual o tamanho da string"
   ]
  },
  {
   "cell_type": "code",
   "execution_count": 4,
   "id": "e7a587c1-c55b-453f-830b-6ce26671d135",
   "metadata": {},
   "outputs": [
    {
     "data": {
      "text/plain": [
       "20"
      ]
     },
     "execution_count": 4,
     "metadata": {},
     "output_type": "execute_result"
    }
   ],
   "source": [
    "s = \"string de tamanho 20\"\n",
    "len(s)"
   ]
  },
  {
   "cell_type": "markdown",
   "id": "27ca47f2-ebb8-4c57-9913-43eda12c94e5",
   "metadata": {},
   "source": [
    "Nós podemos selecionar a posição da string, para isso utilizamos o indice (index).<br>\n",
    "Bem em python a posição incial do indice é 0.<br>\n",
    "0 1 2 3 4 5 . . .<br>\n",
    "\n",
    "Mas e se eu deixar -1 como indice? você retorna o ultimo número, \"voltando\" para o final.<br>"
   ]
  },
  {
   "cell_type": "code",
   "execution_count": 6,
   "id": "e382cda4-4c91-40c0-83a6-88f58b401602",
   "metadata": {},
   "outputs": [
    {
     "name": "stdout",
     "output_type": "stream",
     "text": [
      "A string: abc\n",
      "Começo: a\n",
      "Final: c\n"
     ]
    }
   ],
   "source": [
    "s = \"abc\"\n",
    "print(\"A string: {}\".format(s))\n",
    "print(\"Começo (0): {}\".format(s[0]))\n",
    "print(\"Final: {}\".format(s[-1]))"
   ]
  },
  {
   "cell_type": "markdown",
   "id": "f6b963ab-5408-4c37-abdf-99da76cb80a5",
   "metadata": {},
   "source": [
    "Conseguimos tbm \"fatiar\" a string, chamamos isso de slicing. É quase como passar um indice, porem um pouco mais completo.<br>\n",
    "string[\\<indice_comeco>:\\<indice_terminar>:\\<passos>] <br>\n",
    "Lembrando um pouco até do range, com o \\<passos> sendo 1 como padrão tbm, é opcional inserir algum valor nele.<br>"
   ]
  },
  {
   "cell_type": "code",
   "execution_count": 9,
   "id": "a5652e25-b003-416a-94b2-13171364e085",
   "metadata": {},
   "outputs": [
    {
     "name": "stdout",
     "output_type": "stream",
     "text": [
      "string: abcdefg\n",
      "As primeiras 3 letras: abc\n"
     ]
    }
   ],
   "source": [
    "s = \"abcdefg\"\n",
    "print(\"string: {}\".format(s))\n",
    "print(\"As primeiras 3 letras: {}\".format(s[0:3]))"
   ]
  },
  {
   "cell_type": "markdown",
   "id": "f930eee9-0225-44d3-832a-38bca4135d6c",
   "metadata": {},
   "source": [
    "Podemos tbm reverter a string com slicing hehehe"
   ]
  },
  {
   "cell_type": "code",
   "execution_count": 12,
   "id": "fb68147f-e313-444a-8754-5aa69296836c",
   "metadata": {},
   "outputs": [
    {
     "name": "stdout",
     "output_type": "stream",
     "text": [
      "string: dcba\n",
      "revertendo: abcd\n"
     ]
    }
   ],
   "source": [
    "s = \"dcba\"\n",
    "print(\"string: {}\".format(s))\n",
    "print(\"revertendo: {}\".format(s[::-1]))\n",
    "# começamos ela do final, deixamos o indice final limpo, pois queremos até o final, e deixamos o passo como negativo"
   ]
  },
  {
   "cell_type": "markdown",
   "id": "53111471-3dbd-4c44-99d9-5ddd6e604186",
   "metadata": {},
   "source": [
    "É possivel tbm começar de um ponto do meio da string, terminar no começo e ir voltando, fiocu estranho mas olha lá"
   ]
  },
  {
   "cell_type": "code",
   "execution_count": 13,
   "id": "6a11ba55-69bf-43d9-89ef-705b1807c097",
   "metadata": {},
   "outputs": [
    {
     "name": "stdout",
     "output_type": "stream",
     "text": [
      "string: lucasssssssoiiii\n",
      "vamos pegar da metade até o começo e de 2 em 2 passos: iiosssau\n"
     ]
    }
   ],
   "source": [
    "s = \"lucasssssssoiiii\"\n",
    "print(f\"string: {s}\")\n",
    "print(f\"vamos pegar da metade até o começo e de 2 em 2 passos: {s[len(s):0:-2]}\")"
   ]
  },
  {
   "cell_type": "markdown",
   "id": "f445dcff-4e22-4076-89ec-6084e0283eb2",
   "metadata": {},
   "source": [
    "<strong>Lembrando</strong>, string são imutaveis, não conseguimos mudar o valor em alguma posição da string, bora la ver."
   ]
  },
  {
   "cell_type": "code",
   "execution_count": 14,
   "id": "079e5cc9-77b8-4e10-a6e8-c6c4c1cf98b3",
   "metadata": {},
   "outputs": [
    {
     "ename": "TypeError",
     "evalue": "'str' object does not support item assignment",
     "output_type": "error",
     "traceback": [
      "\u001b[1;31m---------------------------------------------------------------------------\u001b[0m",
      "\u001b[1;31mTypeError\u001b[0m                                 Traceback (most recent call last)",
      "\u001b[1;32m~\\AppData\\Local\\Temp/ipykernel_18868/2688658896.py\u001b[0m in \u001b[0;36m<module>\u001b[1;34m\u001b[0m\n\u001b[0;32m      1\u001b[0m \u001b[0ms\u001b[0m \u001b[1;33m=\u001b[0m \u001b[1;34m\"hello\"\u001b[0m\u001b[1;33m\u001b[0m\u001b[1;33m\u001b[0m\u001b[0m\n\u001b[1;32m----> 2\u001b[1;33m \u001b[0ms\u001b[0m\u001b[1;33m[\u001b[0m\u001b[1;36m1\u001b[0m\u001b[1;33m]\u001b[0m \u001b[1;33m=\u001b[0m \u001b[1;34m\"E\"\u001b[0m\u001b[1;33m\u001b[0m\u001b[1;33m\u001b[0m\u001b[0m\n\u001b[0m",
      "\u001b[1;31mTypeError\u001b[0m: 'str' object does not support item assignment"
     ]
    }
   ],
   "source": [
    "s = \"hello\"\n",
    "s[1] = \"E\""
   ]
  },
  {
   "cell_type": "markdown",
   "id": "c1d9c0ca-2b67-40e7-98da-70061308aa52",
   "metadata": {},
   "source": [
    "Bizu o erro?? não é possivel substituir algum valor daquela string, mas LEMBRE-SE você pode armazenar outra string naquela variavel."
   ]
  },
  {
   "cell_type": "code",
   "execution_count": 15,
   "id": "d09b36f3-5932-4bec-b8b0-7522e1acdf32",
   "metadata": {},
   "outputs": [
    {
     "name": "stdout",
     "output_type": "stream",
     "text": [
      "antes\n",
      "depois\n"
     ]
    }
   ],
   "source": [
    "s = \"antes\"\n",
    "print(s)\n",
    "s = \"depois\"\n",
    "print(s)"
   ]
  },
  {
   "cell_type": "markdown",
   "id": "ca587915-ee2e-472b-a51f-d1887629f6a0",
   "metadata": {},
   "source": [
    "Lembra da palavra for? nós conseguimos passar por toda a string com um loop, lembrando que a string é uma sequencia de caracteres, é um objeto iteravel.<br>"
   ]
  },
  {
   "cell_type": "code",
   "execution_count": 23,
   "id": "af8438c4-0aff-4f8e-b7bd-22d73f9a6018",
   "metadata": {},
   "outputs": [
    {
     "name": "stdout",
     "output_type": "stream",
     "text": [
      "1 <class 'str'> \n",
      "2 <class 'str'> \n",
      "3 <class 'str'> \n",
      "\n",
      "Agora vamos usar o indice para mostrar, saca isso mano\n",
      "1 <class 'str'> \n",
      "2 <class 'str'> \n",
      "3 <class 'str'> \n"
     ]
    }
   ],
   "source": [
    "s = \"123\"\n",
    "for char in s:\n",
    "    print(char, end=\" \")\n",
    "    print(type(char),end=\" \")\n",
    "    print()\n",
    "print()\n",
    "print(\"Agora vamos usar o indice para mostrar, saca isso mano\")\n",
    "for i in range(len(s)):\n",
    "    print(s[i], end=\" \")\n",
    "    print(type(s[i]),end=\" \")\n",
    "    print()"
   ]
  },
  {
   "cell_type": "markdown",
   "id": "84a99755-b71e-4e10-bfbb-ad5a903dc8e5",
   "metadata": {},
   "source": [
    "Agora vamos juntar o conhecimento das ultimas 3 aulas e começar a trabalhar em algortimos!!<br>\n",
    "De prima são 3, com o objetivo de achar o cubo de um num."
   ]
  },
  {
   "cell_type": "code",
   "execution_count": 38,
   "id": "19e26927-b90d-42a7-867d-4befd0d56b65",
   "metadata": {},
   "outputs": [
    {
     "name": "stdout",
     "output_type": "stream",
     "text": [
      "Cube root of 8 is 2\n",
      "Cube root of 27 is 3\n"
     ]
    }
   ],
   "source": [
    "# EXEMPLO 1\n",
    "cube = 8\n",
    "for guess in range(cube+1):\n",
    "    if guess**3 == cube:\n",
    "        print(\"Cube root of\", cube, \"is\",guess)\n",
    "        \n",
    "# CHECAR EXEMPLO 2 E EXEMPLO 3, VOU DEIXAR AQUI TBM\n",
    "cube = 27\n",
    "for guess in range(abs(cube)+1):\n",
    "    if guess**3 >= abs(cube):\n",
    "        break\n",
    "if guess**3 != abs(cube):\n",
    "    print(cube, 'is not a perfect cube')\n",
    "else:\n",
    "    if cube < 0:\n",
    "        guess = -guess\n",
    "    print('Cube root of ' + str(cube) + ' is ' + str(guess))"
   ]
  },
  {
   "cell_type": "code",
   "execution_count": 46,
   "id": "01ba5d93-74ec-4118-95bc-86d026f1884a",
   "metadata": {},
   "outputs": [
    {
     "name": "stdout",
     "output_type": "stream",
     "text": [
      "num_guesses = 20100\n",
      "200.99999999996217 is close to the cube root of 8120601\n"
     ]
    }
   ],
   "source": [
    "#Exemplo 3\n",
    "cube = 8120601\n",
    "epsilon = 0.1\n",
    "guess = 0.0\n",
    "increment = 0.01\n",
    "num_guesses = 0\n",
    "while abs(guess**3 - cube) >= epsilon and guess <= cube:\n",
    "    guess += increment\n",
    "    num_guesses += 1\n",
    "print('num_guesses =', num_guesses)\n",
    "if abs(guess**3 - cube) >= epsilon:\n",
    "    print('Failed on cube root of', cube, \"with these parameters.\")\n",
    "else:\n",
    "    print(guess, 'is close to the cube root of', cube)"
   ]
  },
  {
   "cell_type": "markdown",
   "id": "780961d1-14d1-4d1c-a213-17772d69f302",
   "metadata": {},
   "source": [
    "Agora falar um pouco sobre bisection (dividir e conquistar?). Acabamos passando por um loop infinito e precisando fazer um grande número de tentativas para acharmos o resultado em nossos algoritmos, então vamos buscar uma maneira para diminuir o nº de tentativas.<br>\n",
    "\n",
    "Pegando de exemplo uma tentativa de descobrir um número entre 1 e 100. Digamos que a pessoa escolhe o número 11. Como podemos chegar nesse número sem tentar chutar todos, uma maneira que facilite?<br>\n",
    "\n",
    "Começamos o chute na metade da nossa lista, então 50 (len(lista) / 2), MAS ai ta o pulo do gato, nesse caso precisamos que a pessoa nos passe a informação se o chute é MAIOR ou MENOR que o número escolhido. Assim conseguimos eliminar todos os outros.<br>\n",
    "Ou seja, a pessoa vai responder que é MENOR que 50, então sabemos que é entre 1-50, tiramos 50 tentativas com uma pergunta. Vamos repetir a pergunta indo pela metade, 25 (len(resto_lista) / 2), a resposta é menor e TOMA, eliminamos mais 25 tentativas. <br>\n",
    "Com duas perguntas nós eliminimaos 75 tentativas, deixamos 1/4 de toda nossa lista para procurar, isso que continuamos o nosso método, tendo como nome PESQUISA BINARIA (bisection search)"
   ]
  },
  {
   "cell_type": "markdown",
   "id": "5d7b3e03-39cb-46d6-993b-38dcccc10643",
   "metadata": {},
   "source": [
    "A cada escolha, eliminamos metade"
   ]
  },
  {
   "cell_type": "code",
   "execution_count": 62,
   "id": "b4394daf-c068-498c-bf63-0bd06a9fc7ed",
   "metadata": {},
   "outputs": [
    {
     "name": "stdout",
     "output_type": "stream",
     "text": [
      "epsilon: 0.01\n",
      "\n",
      "\n",
      "   /\\ high: 27\n",
      "guess**3 - cube: 280.546875\n",
      "\n",
      "   /\\ high: 13.5\n",
      "guess**3 - cube: 11.443359375\n",
      "\n",
      "   /\\ high: 6.75\n",
      "guess**3 - cube: 22.194580078125\n",
      "\n",
      "   \\/ low: 0\n",
      "guess**3 - cube: 10.781707763671875\n",
      "\n",
      "   \\/ low: 1.6875\n",
      "guess**3 - cube: 1.2459526062011719\n",
      "\n",
      "   \\/ low: 2.53125\n",
      "guess**3 - cube: 4.676352024078369\n",
      "\n",
      "   /\\ high: 3.375\n",
      "guess**3 - cube: 1.6131314635276794\n",
      "\n",
      "   /\\ high: 3.1640625\n",
      "guess**3 - cube: 0.15851231664419174\n",
      "\n",
      "   /\\ high: 3.05859375\n",
      "guess**3 - cube: 0.5499344291165471\n",
      "\n",
      "   \\/ low: 2.953125\n",
      "guess**3 - cube: 0.1972715015290305\n",
      "\n",
      "   \\/ low: 2.9794921875\n",
      "guess**3 - cube: 0.019770563041674905\n",
      "\n",
      "   \\/ low: 2.99267578125\n",
      "guess**3 - cube: 0.06927302674193925\n",
      "\n",
      "   /\\ high: 3.005859375\n",
      "guess**3 - cube: 0.02472678276149054\n",
      "\n",
      "   /\\ high: 3.0025634765625\n",
      "guess**3 - cube: 0.00247199926602093\n",
      "\n",
      "num_guesses = 14\n",
      "3.000091552734375 is close to the cube root of 27\n"
     ]
    }
   ],
   "source": [
    "# exemplo 4, agora usando o bisection search\n",
    "\n",
    "cube = 27\n",
    "epsilon = 0.01\n",
    "num_guesses = 0\n",
    "low = 0\n",
    "high = cube\n",
    "guess = (high + low)/2.0\n",
    "print(f\"epsilon: {epsilon}\\n\\n\")\n",
    "\n",
    "while abs(guess**3 - cube) >= epsilon:\n",
    "    if guess**3 < cube:\n",
    "        # look only in upper half search space\n",
    "        print(f\"   \\/ low: {low}\")\n",
    "        low = guess\n",
    "    else:\n",
    "        # look only in lower half search space\n",
    "        print(f\"   /\\ high: {high}\")\n",
    "        high = guess\n",
    "    # next guess is halfway in search space\n",
    "    # print(f\"total: {high+low}\")\n",
    "    guess = (high + low)/2.0\n",
    "    print(\"guess**3 - cube: {}\".format(abs(guess**3 - cube)))\n",
    "    num_guesses += 1\n",
    "    print()\n",
    "print('num_guesses =', num_guesses)\n",
    "print(guess, 'is close to the cube root of', cube)"
   ]
  },
  {
   "cell_type": "markdown",
   "id": "fff38a74-13a3-4862-a1a6-726489c4d879",
   "metadata": {},
   "source": [
    "Como a cada tentativa é dividido pela metade, acaba ficando\n",
    "- 1 tentativa, n/2\n",
    "- 2 tentativa, n/4\n",
    "- 3 tentativa, n/8\n",
    "\n",
    "Aumentando expotencialmente na potencia de 2, n/2**k (tentativas)"
   ]
  },
  {
   "cell_type": "markdown",
   "id": "cb12a53f-b864-4bd0-9fa1-a3a74fd9e992",
   "metadata": {},
   "source": [
    "# CÓDIGO DA AULA"
   ]
  },
  {
   "cell_type": "code",
   "execution_count": 12,
   "id": "05b6e9ac-a747-4b35-a0f1-40ec2fe330b0",
   "metadata": {},
   "outputs": [
    {
     "name": "stdout",
     "output_type": "stream",
     "text": [
      "There is an i or u\n",
      "There is an i or u\n",
      "There is an i or u\n",
      "There is an i or u\n"
     ]
    }
   ],
   "source": [
    "####################\n",
    "## EXAMPLE: for loops over strings\n",
    "####################\n",
    "s = \"pinduca\"\n",
    "for index in range(len(s)):\n",
    "    if s[index] == 'i' or s[index] == 'u':\n",
    "        print(\"There is an i or u\")\n",
    "\n",
    "for char in s:\n",
    "    if char == 'i' or char == 'u':\n",
    "        print(\"There is an i or u\")"
   ]
  },
  {
   "cell_type": "code",
   "execution_count": 9,
   "id": "ff734a0c-c46a-4fe2-9ce0-261c4725f252",
   "metadata": {},
   "outputs": [
    {
     "name": "stdin",
     "output_type": "stream",
     "text": [
      "I will cheer for you! Enter a word:  receba\n",
      "Enthusiasm level (1-10):  10\n"
     ]
    },
    {
     "name": "stdout",
     "output_type": "stream",
     "text": [
      "Give me an r! r\n",
      "Give me an e! e\n",
      "Give me a  c! c\n",
      "Give me an e! e\n",
      "Give me a  b! b\n",
      "Give me an a! a\n",
      "What does that spell?\n",
      "receba !!!\n",
      "receba !!!\n",
      "receba !!!\n",
      "receba !!!\n",
      "receba !!!\n",
      "receba !!!\n",
      "receba !!!\n",
      "receba !!!\n",
      "receba !!!\n",
      "receba !!!\n"
     ]
    }
   ],
   "source": [
    "####################\n",
    "## EXAMPLE: while loops and strings\n",
    "## CHALLENGE: rewrite while loop with a for loop\n",
    "####################\n",
    "an_letters = \"aefhilmnorsxAEFHILMNORSX\"\n",
    "word = input(\"I will cheer for you! Enter a word: \")\n",
    "times = int(input(\"Enthusiasm level (1-10): \"))\n",
    "\n",
    "i = 0\n",
    "while i < len(word):\n",
    "    char = word[i]\n",
    "    if char in an_letters:\n",
    "        print(\"Give me an \" + char + \"! \" + char)\n",
    "    else:\n",
    "        print(\"Give me a  \" + char + \"! \" + char)\n",
    "    i += 1\n",
    "print(\"What does that spell?\")\n",
    "for i in range(times):\n",
    "    print(word, \"!!!\")"
   ]
  },
  {
   "cell_type": "code",
   "execution_count": 26,
   "id": "3841a7ac-df5b-4f62-8011-c917abbd1a7a",
   "metadata": {},
   "outputs": [
    {
     "name": "stdin",
     "output_type": "stream",
     "text": [
      "I will cheer for you! Enter a word:  siu\n",
      "Enthusiasm level (1-10):  2\n"
     ]
    },
    {
     "name": "stdout",
     "output_type": "stream",
     "text": [
      "Give me an s! s\n",
      "Give me an i! i\n",
      "Give me a  u! u\n",
      "What does that spell?\n",
      "siu !!!\n",
      "siu !!!\n"
     ]
    }
   ],
   "source": [
    "# agora usando o for ao inves do while\n",
    "\n",
    "an_letters = \"aefhilmnorsxAEFHILMNORSX\"\n",
    "word = input(\"I will cheer for you! Enter a word: \")\n",
    "times = int(input(\"Enthusiasm level (1-10): \"))\n",
    "\n",
    "for char in word:\n",
    "    if char in an_letters:\n",
    "        print(\"Give me an \" + char + \"! \" + char)\n",
    "    else:\n",
    "        print(\"Give me a  \" + char + \"! \" + char)\n",
    "print(\"What does that spell?\")\n",
    "for i in range(times):\n",
    "    print(word, \"!!!\")"
   ]
  },
  {
   "cell_type": "code",
   "execution_count": 3,
   "id": "e5cc07f7-dbce-47c4-9c23-1fc351040fb0",
   "metadata": {},
   "outputs": [
    {
     "name": "stdout",
     "output_type": "stream",
     "text": [
      "Cube root of 27 is 3\n"
     ]
    }
   ],
   "source": [
    "####################\n",
    "## EXAMPLE: perfect cube \n",
    "####################\n",
    "cube = 27\n",
    "#cube = 8120601\n",
    "for guess in range(cube+1):\n",
    "    if guess**3 == cube:\n",
    "        print(\"Cube root of\", cube, \"is\", guess)\n",
    "    # loops keeps going even after found the cube root"
   ]
  },
  {
   "cell_type": "code",
   "execution_count": 4,
   "id": "48c2e53d-44fc-4fdf-80c3-b7607c44cceb",
   "metadata": {},
   "outputs": [
    {
     "name": "stdout",
     "output_type": "stream",
     "text": [
      "Cube root of 27 is 3\n"
     ]
    }
   ],
   "source": [
    "####################\n",
    "## EXAMPLE: guess and check cube root \n",
    "####################\n",
    "cube = 27\n",
    "#cube = 8120601\n",
    "for guess in range(abs(cube)+1):\n",
    "   # passed all potential cube roots\n",
    "    if guess**3 >= abs(cube):\n",
    "       # no need to keep searching\n",
    "       break\n",
    "if guess**3 != abs(cube):\n",
    "    print(cube, 'is not a perfect cube')\n",
    "else:\n",
    "    if cube < 0:\n",
    "        guess = -guess\n",
    "    print('Cube root of ' + str(cube) + ' is ' + str(guess))"
   ]
  },
  {
   "cell_type": "code",
   "execution_count": 5,
   "id": "b9046d3b-4d1b-49c1-9aa6-a8279b4f5ee9",
   "metadata": {},
   "outputs": [
    {
     "name": "stdout",
     "output_type": "stream",
     "text": [
      "num_guesses = 300\n",
      "2.99999999999998 is close to the cube root of 27\n"
     ]
    }
   ],
   "source": [
    "####################\n",
    "## EXAMPLE: approximate cube root \n",
    "####################\n",
    "cube = 27\n",
    "#cube = 8120601\n",
    "#cube = 10000\n",
    "epsilon = 0.1\n",
    "guess = 0.0\n",
    "increment = 0.01\n",
    "num_guesses = 0\n",
    "# look for close enough answer and make sure\n",
    "# didn't accidentally skip the close enough bound\n",
    "while abs(guess**3 - cube) >= epsilon and guess <= cube:\n",
    "    guess += increment\n",
    "    num_guesses += 1\n",
    "print('num_guesses =', num_guesses)\n",
    "if abs(guess**3 - cube) >= epsilon:\n",
    "    print('Failed on cube root of', cube, \"with these parameters.\")\n",
    "else:\n",
    "    print(guess, 'is close to the cube root of', cube)"
   ]
  },
  {
   "cell_type": "code",
   "execution_count": 6,
   "id": "6f10ba36-b28f-46ea-ae96-849f38d370c8",
   "metadata": {},
   "outputs": [
    {
     "name": "stdout",
     "output_type": "stream",
     "text": [
      "num_guesses = 14\n",
      "3.000091552734375 is close to the cube root of 27\n"
     ]
    }
   ],
   "source": [
    "####################\n",
    "## EXAMPLE: bisection cube root (only positive cubes!)\n",
    "####################\n",
    "cube = 27\n",
    "#cube = 8120601\n",
    "# won't work with x < 1 because initial upper bound is less than ans\n",
    "#cube = 0.25\n",
    "epsilon = 0.01\n",
    "num_guesses = 0\n",
    "low = 0\n",
    "high = cube\n",
    "guess = (high + low)/2.0\n",
    "while abs(guess**3 - cube) >= epsilon:\n",
    "    if guess**3 < cube:\n",
    "        # look only in upper half search space\n",
    "        low = guess\n",
    "    else:\n",
    "        # look only in lower half search space\n",
    "        high = guess\n",
    "    # next guess is halfway in search space\n",
    "    guess = (high + low)/2.0\n",
    "    num_guesses += 1\n",
    "print('num_guesses =', num_guesses)\n",
    "print(guess, 'is close to the cube root of', cube)"
   ]
  },
  {
   "cell_type": "markdown",
   "id": "e85035ae-b1a3-4cca-8f21-0731808b89b9",
   "metadata": {},
   "source": [
    "# QUESTOS DA AULA"
   ]
  },
  {
   "cell_type": "markdown",
   "id": "9009f2ce-b745-4278-b139-69286b7f219e",
   "metadata": {},
   "source": [
    "### 1) Oq o print(new_str) mostra?"
   ]
  },
  {
   "cell_type": "markdown",
   "id": "776212ce-4a5f-4565-8bf3-2a55dedca96f",
   "metadata": {},
   "source": [
    "<img src=\"media/03_questao1.png\">"
   ]
  },
  {
   "cell_type": "markdown",
   "id": "c1409aa3-ed85-4cf6-86ea-43f18ad61e09",
   "metadata": {},
   "source": [
    "São adicionadas 4 partições da string na nova string que estava vazia:\n",
    "- 1º, final da string, então 2.\n",
    "    - new_str = 2\n",
    "- 2º, começo da string, entao 6\n",
    "    - new_str = 26\n",
    "- 3º, começa da 4 posição, o default é o len(s), mas com passos de 30, como é maior que a string, ele adiciona somente a primeira posição, a posição 4, uma espaço vazio \" \"\n",
    "    - new_str = 26 \n",
    "- 4º, começa na posição 13, para na 10 (001) mas ao contrario, do 13 ao 10, (100).\n",
    "    - new_str = 26 100"
   ]
  },
  {
   "cell_type": "code",
   "execution_count": 67,
   "id": "b5c6969b-54b5-4822-8aa3-cd2de7edc702",
   "metadata": {},
   "outputs": [
    {
     "name": "stdout",
     "output_type": "stream",
     "text": [
      "26 100\n"
     ]
    }
   ],
   "source": [
    "s = \"6.00 is 6.0001 and 6.0002\"\n",
    "new_str = \"\"\n",
    "new_str += s[-1]\n",
    "new_str += s[0]\n",
    "new_str += s[4::30]\n",
    "new_str += s[13:10:-1]\n",
    "print(new_str)"
   ]
  },
  {
   "cell_type": "markdown",
   "id": "e207c5d4-d118-4a87-822d-5912ec49d8d1",
   "metadata": {
    "tags": []
   },
   "source": [
    "### 2) Quantas vezes o código vai printar \"common letter\"?"
   ]
  },
  {
   "cell_type": "markdown",
   "id": "7835f672-d199-4dcf-a9d3-041b96aa7296",
   "metadata": {},
   "source": [
    "<img src=\"media/03_questao2.png\">"
   ]
  },
  {
   "cell_type": "markdown",
   "id": "43d572fa-fc8b-4f61-ae18-c273aa30aa3c",
   "metadata": {},
   "source": [
    "7 vezes, essa ai me pegou não vou mentir kkkk bem ele começa rodando o loop primeiramente em toda primeira string (mit u rock), selecionando o \"m\" e começa um loop por toda a segunda string (i rule mit), então ele checa com \"i\", \" \", \"r\", \"u\"... até acabar e começar a proxima letra da primeira string OUU até achar a letra que combina com a condição (uma igual o \"m\" no caso, precisam ser iguais), acaba acontendo isso no \"i rule Mit\", então ele imprime o \"common letter\" e segue para a segunda letra da primeira string... o i aparece logo de inicio, ele da o break e parte para a proxima letra da primeira string, e segue até finalizar toda ela. Aparecendo 7 vezes ao total!"
   ]
  },
  {
   "cell_type": "code",
   "execution_count": 73,
   "id": "ba346bcc-6724-40f5-9f72-422db4a99a4e",
   "metadata": {},
   "outputs": [
    {
     "name": "stdout",
     "output_type": "stream",
     "text": [
      "common letter\n",
      "common letter\n",
      "common letter\n",
      "common letter\n",
      "common letter\n",
      "common letter\n",
      "common letter\n"
     ]
    }
   ],
   "source": [
    "s1 = \"mit u rock\"\n",
    "s2 = \"i rule mit\"\n",
    "if len(s1) == len(s2):\n",
    "    for char1 in s1:\n",
    "        for char2 in s2:\n",
    "            if char1 == char2:\n",
    "                print(\"common letter\")\n",
    "                break"
   ]
  }
 ],
 "metadata": {
  "kernelspec": {
   "display_name": "Python 3 (ipykernel)",
   "language": "python",
   "name": "python3"
  },
  "language_info": {
   "codemirror_mode": {
    "name": "ipython",
    "version": 3
   },
   "file_extension": ".py",
   "mimetype": "text/x-python",
   "name": "python",
   "nbconvert_exporter": "python",
   "pygments_lexer": "ipython3",
   "version": "3.10.1"
  }
 },
 "nbformat": 4,
 "nbformat_minor": 5
}
