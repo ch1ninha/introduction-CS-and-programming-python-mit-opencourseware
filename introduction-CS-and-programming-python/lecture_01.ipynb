{
 "cells": [
  {
   "cell_type": "markdown",
   "id": "2743a8bc-f463-46c4-b36e-b8ecfa7686e7",
   "metadata": {},
   "source": [
    "# WHAT IS COMPUTATION?"
   ]
  },
  {
   "cell_type": "markdown",
   "id": "bef107f7-2964-4fba-a483-413a3614543a",
   "metadata": {},
   "source": [
    "Começando algo novo? Praticar, praticar e um pouco mais de pratica.<br>\n",
    "Sem medo de sair testando, ok?"
   ]
  },
  {
   "cell_type": "code",
   "execution_count": 2,
   "id": "e4823489-11d0-4c0a-85bc-dccf1ce091c4",
   "metadata": {},
   "outputs": [
    {
     "name": "stdout",
     "output_type": "stream",
     "text": [
      "testando\n"
     ]
    }
   ],
   "source": [
    "try:\n",
    "    print(\"testando\")\n",
    "except:\n",
    "    print(\"nao TESTOU FIAO?\")"
   ]
  },
  {
   "cell_type": "markdown",
   "id": "4af6d977-72e5-4d7e-83eb-c993dd59a04d",
   "metadata": {},
   "source": [
    "## Computadores só sabem oq passamos para ele.\n",
    "\n",
    "Conhecimento declarativo ==> declaração de um fato.<br>\n",
    "Ex: Bebo agua quando sinto sede.<br>\n",
    "Conhecimento Imperativo ==> Receita ou como fazer. <br>\n",
    "Ex: Encho um copo de agua e depois meto-le um golao <br>"
   ]
  },
  {
   "cell_type": "markdown",
   "id": "d1ac7890-3982-4d39-b9ff-c45f0dd801ca",
   "metadata": {},
   "source": [
    "Oq é uma receita?\n",
    "- Sequencia de etapas\n",
    "- Controle da sequencia\n",
    "- Precisa ter um fim (objetivo)\n",
    "Opa... parece que temos um algoritmo hehehe"
   ]
  },
  {
   "cell_type": "code",
   "execution_count": 3,
   "id": "c80e8d6e-ed9b-4371-951d-c5e24a6504b9",
   "metadata": {},
   "outputs": [
    {
     "name": "stdout",
     "output_type": "stream",
     "text": [
      "boar beber agua\n"
     ]
    }
   ],
   "source": [
    "sede = True\n",
    "if sede:\n",
    "    print(\"boar beber agua\")\n",
    "else:\n",
    "    print(\"to chein, nao quero mais agua, vlww\")"
   ]
  },
  {
   "cell_type": "markdown",
   "id": "047830dd-3f24-4362-b80f-5f9c21230ff5",
   "metadata": {},
   "source": [
    "Computadores são maquinas, seguem uma sequencia de instruções.\n",
    "Arquitetura basica:\n",
    "- Memoria -> Aonde ficam os dados, fala com ambos\n",
    "- ALU -> Aonde os calculos são feitos, fala com ambos\n",
    "- CU -> \"Contador\" de programa, fala com ambos"
   ]
  },
  {
   "cell_type": "markdown",
   "id": "75ca6d5d-93d0-4446-baca-1685aafea94a",
   "metadata": {},
   "source": [
    "<img src=\"media/01_basic_machine_architecture.png\">"
   ]
  },
  {
   "cell_type": "markdown",
   "id": "4a01bad6-368e-434d-8f40-07658fb567b4",
   "metadata": {},
   "source": [
    "### Instruções primitivas que o computador consegue fazer\n",
    "- Arimética e lógica"
   ]
  },
  {
   "cell_type": "code",
   "execution_count": 4,
   "id": "b6c4b3f2-691c-4464-8c0a-53ced27c4660",
   "metadata": {},
   "outputs": [
    {
     "data": {
      "text/plain": [
       "(10, 15, 10.0)"
      ]
     },
     "execution_count": 4,
     "metadata": {},
     "output_type": "execute_result"
    }
   ],
   "source": [
    "5+5, 10+5, 10/1"
   ]
  },
  {
   "cell_type": "markdown",
   "id": "18d80de2-6b0d-43e8-8ed5-8d25ae03a069",
   "metadata": {},
   "source": [
    "- Testes simples, igual ou diferente"
   ]
  },
  {
   "cell_type": "code",
   "execution_count": 6,
   "id": "9e2f7ae7-751e-4adf-9367-64237253bf5c",
   "metadata": {},
   "outputs": [
    {
     "data": {
      "text/plain": [
       "(False, False, True)"
      ]
     },
     "execution_count": 6,
     "metadata": {},
     "output_type": "execute_result"
    }
   ],
   "source": [
    "10 == 1, True == False, False != True"
   ]
  },
  {
   "cell_type": "markdown",
   "id": "061f8efa-bb9d-4e1a-a866-d9889586b925",
   "metadata": {},
   "source": [
    "- Mover Dados"
   ]
  },
  {
   "cell_type": "code",
   "execution_count": 8,
   "id": "d2baff5b-71db-4c7b-98d1-d11072f062c4",
   "metadata": {},
   "outputs": [
    {
     "data": {
      "text/plain": [
       "'novo abacate'"
      ]
     },
     "execution_count": 8,
     "metadata": {},
     "output_type": "execute_result"
    }
   ],
   "source": [
    "abacate = \"abacate\"\n",
    "novo_abacate = \"novo \" + abacate\n",
    "novo_abacate"
   ]
  },
  {
   "cell_type": "markdown",
   "id": "20ba4b29-0b6e-4aea-b795-259623780329",
   "metadata": {},
   "source": [
    "### Intepretador se move para cada instrução, entendo para aonde ir e oq fazer.\n"
   ]
  },
  {
   "cell_type": "markdown",
   "id": "cd9315e0-2336-4d1e-954c-1b93cfb55c97",
   "metadata": {},
   "source": [
    "sintaxe, operador -> operando -> operador. <br>\n",
    "Assim conseguimos criar expressões\n",
    "- \"arroz feijao batata\" -> nao valido\n",
    "- \"arroz com feijao\" -> valido\n",
    "\n",
    "Na linguagem \"humana\" podemos ter uma frase escrita de maneira correta, mas com mais de um significado, mas os programas apenas entendem um significado, entendem de maneira clara como aquilo é.<br>\n",
    "Saber a importancia da sintaxe e semantica."
   ]
  },
  {
   "cell_type": "code",
   "execution_count": 21,
   "id": "3d042dfc-3884-4381-b3e8-83c8b6baccae",
   "metadata": {},
   "outputs": [
    {
     "ename": "SyntaxError",
     "evalue": "invalid syntax (Temp/ipykernel_9476/2818278216.py, line 2)",
     "output_type": "error",
     "traceback": [
      "\u001b[1;36m  File \u001b[1;32m\"C:\\Users\\lucas\\AppData\\Local\\Temp/ipykernel_9476/2818278216.py\"\u001b[1;36m, line \u001b[1;32m2\u001b[0m\n\u001b[1;33m    5 / * 5 # erro de sintaxe, podemos até checar no erro \\/ \\/ SyntaxError: invalid syntax\u001b[0m\n\u001b[1;37m        ^\u001b[0m\n\u001b[1;31mSyntaxError\u001b[0m\u001b[1;31m:\u001b[0m invalid syntax\n"
     ]
    }
   ],
   "source": [
    "5 / 5 * 5 # sem erro, passa para a proxima linha\n",
    "5 / * 5 # erro de sintaxe, podemos até checar no erro \\/ \\/ SyntaxError: invalid syntax"
   ]
  },
  {
   "cell_type": "markdown",
   "id": "a3474024-ed55-481c-8b51-468913242125",
   "metadata": {},
   "source": [
    "Em python tudo são objetos.\n",
    "- Todos objetos possuem dados\n",
    "- Todos objetos possuem tipos"
   ]
  },
  {
   "cell_type": "code",
   "execution_count": 36,
   "id": "4908dd8c-8012-495c-aa4e-fb68c220d34d",
   "metadata": {},
   "outputs": [
    {
     "data": {
      "text/plain": [
       "\"print(value, ..., sep=' ', end='\\\\n', file=sys.stdout, flush=False)\\n\\nPrints the values to a stream, or to sys.stdout by default.\\nOptional keyword arguments:\\nfile:  a file-like object (stream); defaults to the current sys.stdout.\\nsep:   string inserted between values, default a space.\\nend:   string appended after the last value, default a newline.\\nflush: whether to forcibly flush the stream.\""
      ]
     },
     "execution_count": 36,
     "metadata": {},
     "output_type": "execute_result"
    }
   ],
   "source": [
    "# as funções são objetos, tudo são objetos que interagem entre eles, por exemplo a função print()\n",
    "print.__doc__"
   ]
  },
  {
   "cell_type": "markdown",
   "id": "e55983e5-983f-4423-8f68-5d556681f86c",
   "metadata": {},
   "source": [
    "Usamos o atributo doc com __ antes e ao final, nesse atributo estão informações sobre as funções."
   ]
  },
  {
   "cell_type": "code",
   "execution_count": 37,
   "id": "81bfdd3e-71ab-475d-83e6-f9a640d92b0c",
   "metadata": {},
   "outputs": [
    {
     "data": {
      "text/plain": [
       "<function int.to_bytes(length, byteorder, *, signed=False)>"
      ]
     },
     "execution_count": 37,
     "metadata": {},
     "output_type": "execute_result"
    }
   ],
   "source": [
    "numero = 5\n",
    "numero.to_bytes"
   ]
  },
  {
   "cell_type": "markdown",
   "id": "5d34fcdb-43e6-452b-b82a-2d8f71962936",
   "metadata": {},
   "source": [
    "Agora chamamos o atributo to_bytes de um objeto número inteiro, podemos perceber que de acordo com o tipo de objeto os atributos e métodos mudam. Não é uma função, então não temos o atributo doc"
   ]
  },
  {
   "cell_type": "markdown",
   "id": "a7e7eddc-f5a1-4b2b-9c4c-ca26d9e03463",
   "metadata": {},
   "source": [
    "### Objetos são:\n",
    "- Escalares\n",
    "- Nao-escalares\n",
    "    - Não conseguimos dividir em partes menores\n",
    "\n",
    "Mas e as expressoes, oq são\n",
    "- Combinamos objetos e operadores para formar expressões\n",
    "- Uma expressão tem um valor, que tem um tipo\n",
    "- objeto -> operador -> objeto"
   ]
  },
  {
   "cell_type": "code",
   "execution_count": 41,
   "id": "c6b91cec-11f5-47b2-b5ba-ea031b69fb76",
   "metadata": {},
   "outputs": [
    {
     "data": {
      "text/plain": [
       "True"
      ]
     },
     "execution_count": 41,
     "metadata": {},
     "output_type": "execute_result"
    }
   ],
   "source": [
    "5 * 5\n",
    "10 + 56\n",
    "10 / 68\n",
    "\n",
    "numero = 10\n",
    "type(numero) == int"
   ]
  },
  {
   "cell_type": "markdown",
   "id": "478e41d5-aa9d-44d7-a3d2-d7c71eea95b6",
   "metadata": {},
   "source": [
    "Precisamos gravar os objetos em algum lugar né? Nao da para ficar digitando tudo repetido, mas eai?\n",
    "Variaveis:\n",
    "- Escolhemos o melhor nome para deixar aquele valor\n",
    "- Passamos atráves do sinal de igualdade (=)\n",
    "- Da para ficar reutilizando bem faciin\n",
    "- reunilizar nomes são mais faceis que reutilizar valores.\n",
    "\n"
   ]
  },
  {
   "cell_type": "code",
   "execution_count": null,
   "id": "f33e8f55-5bbe-465a-b186-37d015c509b8",
   "metadata": {},
   "outputs": [],
   "source": []
  },
  {
   "cell_type": "markdown",
   "id": "f30ca6a6-c4c0-4fac-b1b1-32855fbc7f2c",
   "metadata": {},
   "source": [
    "### Código disponibilizado na aula"
   ]
  },
  {
   "cell_type": "code",
   "execution_count": null,
   "id": "a33b8844-5cdd-41c2-9a00-0ba58bc0ecea",
   "metadata": {},
   "outputs": [],
   "source": [
    "pi = 3.14159\n",
    "radius = 2.2\n",
    "# area of circle equation <- this is a comment\n",
    "area = pi*(radius**2)\n",
    "print(area)\n",
    "\n",
    "# change values of radius <- another comment\n",
    "# use comments to help others understand what you are doing in code\n",
    "radius = radius + 1\n",
    "print(area)     # area doesn't change\n",
    "area = pi*(radius**2)\n",
    "print(area)\n",
    "\n",
    "\n",
    "#############################\n",
    "#### COMMENTING LINES #######\n",
    "#############################\n",
    "# to comment MANY lines at a time, highlight all of them then CTRL+1\n",
    "# do CTRL+1 again to uncomment them\n",
    "# try it on the next few lines below!\n",
    "\n",
    "#area = pi*(radius**2)\n",
    "#print(area)\n",
    "#radius = radius + 1\n",
    "#area = pi*(radius**2)\n",
    "#print(area)\n",
    "\n",
    "#############################\n",
    "#### AUTOCOMPLETE #######\n",
    "#############################\n",
    "# Spyder can autocomplete names for you\n",
    "# start typing a variable name defined in your program and hit tab \n",
    "# before you finish typing -- try it below\n",
    "\n",
    "# define a variable\n",
    "a_very_long_variable_name_dont_name_them_this_long_pls = 0\n",
    "\n",
    "# below, start typing a_ve then hit tab... cool, right!\n",
    "# use autocomplete to change the value of that variable to 1\n",
    "\n",
    "# use autocomplete to write a line that prints the value of that long variable\n",
    "# notice that Spyder also automatically adds the closed parentheses for you!"
   ]
  },
  {
   "cell_type": "code",
   "execution_count": null,
   "id": "753533d9-a40e-4ac9-8f13-323acb1f1a26",
   "metadata": {},
   "outputs": [],
   "source": []
  },
  {
   "cell_type": "markdown",
   "id": "84d73379-8b7a-4fb6-9602-b1ef2e6bbbab",
   "metadata": {},
   "source": [
    "## Questões para responder ao final da aula"
   ]
  },
  {
   "cell_type": "markdown",
   "id": "64694a49-e23b-4366-b73f-e9d6fc484d68",
   "metadata": {},
   "source": [
    "<img src=\"media/01_questao1.png\">"
   ]
  },
  {
   "cell_type": "markdown",
   "id": "4a2a210a-5c0f-456c-b91f-97ab4a7a077f",
   "metadata": {},
   "source": [
    "#### b) 2.0<br>\n",
    "5 é um número inteiro, porem não pedimos para imprimir na tela com a funcao print(), so iria aparecer caso fosse a ultima operação do código, que nao é o caso.<br>\n",
    "operações com números decimais, retornam números decimais. Exceto com operadores que apenas retornam inteiros, como o (//), toda divisão retorna um float, mas com dupla /, é retornado um inteiro"
   ]
  },
  {
   "cell_type": "code",
   "execution_count": 43,
   "id": "10ce7372-0101-45f1-a1f8-bef466babece",
   "metadata": {},
   "outputs": [
    {
     "name": "stdout",
     "output_type": "stream",
     "text": [
      "2.0\n"
     ]
    }
   ],
   "source": [
    "type(5)\n",
    "print(3.0-1)"
   ]
  },
  {
   "cell_type": "markdown",
   "id": "55c1c9ae-30d5-4ccb-9224-4fa462545f08",
   "metadata": {},
   "source": [
    "<img src=\"media/01_questao2.png\">"
   ]
  },
  {
   "cell_type": "markdown",
   "id": "c0e6dbd6-3def-41c3-a3ff-df9fd2d42f5e",
   "metadata": {},
   "source": [
    "### d) xy = 2\n",
    "\n",
    "Não podemos fazer uma operação no nome da declaração da variavel e não podemos começar com um número.<br>\n",
    "Na ocasião não é uma multiplicação entre o x.y, muito comum na matematica e sim uma variavel com nome \"xy\""
   ]
  },
  {
   "cell_type": "code",
   "execution_count": 47,
   "id": "dd4c99a8-56a1-4b84-855e-a5e2a8da8c80",
   "metadata": {},
   "outputs": [
    {
     "ename": "SyntaxError",
     "evalue": "cannot assign to expression here. Maybe you meant '==' instead of '='? (Temp/ipykernel_9476/2753009645.py, line 2)",
     "output_type": "error",
     "traceback": [
      "\u001b[1;36m  File \u001b[1;32m\"C:\\Users\\lucas\\AppData\\Local\\Temp/ipykernel_9476/2753009645.py\"\u001b[1;36m, line \u001b[1;32m2\u001b[0m\n\u001b[1;33m    x + y = 2\u001b[0m\n\u001b[1;37m    ^\u001b[0m\n\u001b[1;31mSyntaxError\u001b[0m\u001b[1;31m:\u001b[0m cannot assign to expression here. Maybe you meant '==' instead of '='?\n"
     ]
    }
   ],
   "source": [
    "# noup\n",
    "x + y = 2"
   ]
  },
  {
   "cell_type": "code",
   "execution_count": 48,
   "id": "7eee8f31-4f8a-468e-90be-f47974458feb",
   "metadata": {},
   "outputs": [
    {
     "ename": "SyntaxError",
     "evalue": "cannot assign to literal here. Maybe you meant '==' instead of '='? (Temp/ipykernel_9476/168817983.py, line 2)",
     "output_type": "error",
     "traceback": [
      "\u001b[1;36m  File \u001b[1;32m\"C:\\Users\\lucas\\AppData\\Local\\Temp/ipykernel_9476/168817983.py\"\u001b[1;36m, line \u001b[1;32m2\u001b[0m\n\u001b[1;33m    2 = x\u001b[0m\n\u001b[1;37m    ^\u001b[0m\n\u001b[1;31mSyntaxError\u001b[0m\u001b[1;31m:\u001b[0m cannot assign to literal here. Maybe you meant '==' instead of '='?\n"
     ]
    }
   ],
   "source": [
    "# nope\n",
    "2 = x"
   ]
  },
  {
   "cell_type": "code",
   "execution_count": 49,
   "id": "c5503afa-43b3-4eb6-9114-9289b46225e8",
   "metadata": {},
   "outputs": [],
   "source": [
    "# yessir\n",
    "xy = 2"
   ]
  },
  {
   "cell_type": "markdown",
   "id": "177d6c4d-c0e9-45f6-8c9a-2e8ec91f07a1",
   "metadata": {},
   "source": [
    "<img src=\"media/01_questao3.png\">"
   ]
  },
  {
   "cell_type": "markdown",
   "id": "eecc58c6-ccf5-4d9a-ac2b-c487783e0425",
   "metadata": {},
   "source": [
    "### a) 74 then 74\n",
    "\n",
    "A variavel 'total_gold' foi endereçada o valor de 74 na primeira expressão de calculo, a gente até muda o valor de uma das variaveis do calculo, porém para mudar o valor que estava no endereço da variavel 'total_gold' teriamos que rodar novamente a expressão, como não ocorreu, a variavel continua com o valor de 74"
   ]
  },
  {
   "cell_type": "code",
   "execution_count": 50,
   "id": "0534aed8-9b55-421d-ac2d-2561c4a46b27",
   "metadata": {},
   "outputs": [
    {
     "name": "stdout",
     "output_type": "stream",
     "text": [
      "74\n",
      "74\n"
     ]
    }
   ],
   "source": [
    "usa_gold = 46\n",
    "uk_gold = 27\n",
    "romania_gold = 1\n",
    "\n",
    "total_gold = usa_gold + uk_gold + romania_gold\n",
    "print(total_gold)\n",
    "\n",
    "romania_gold += 1\n",
    "print(total_gold)"
   ]
  }
 ],
 "metadata": {
  "kernelspec": {
   "display_name": "Python 3 (ipykernel)",
   "language": "python",
   "name": "python3"
  },
  "language_info": {
   "codemirror_mode": {
    "name": "ipython",
    "version": 3
   },
   "file_extension": ".py",
   "mimetype": "text/x-python",
   "name": "python",
   "nbconvert_exporter": "python",
   "pygments_lexer": "ipython3",
   "version": "3.10.1"
  }
 },
 "nbformat": 4,
 "nbformat_minor": 5
}
