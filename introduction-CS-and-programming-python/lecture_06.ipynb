{
 "cells": [
  {
   "cell_type": "markdown",
   "id": "f4a4a9d2-1c6c-4af2-9d6e-237977578b9a",
   "metadata": {},
   "source": [
    "# RECURSION AND DICTIONARIES"
   ]
  },
  {
   "cell_type": "markdown",
   "id": "de2b9850-2cd7-453b-8c46-683a1c5a345f",
   "metadata": {},
   "source": [
    "#### Na ultima semana\n",
    "Tivemos introdução de tipos de dados, listas (mutaveis) e tuplas (imutaveis).<br>\n",
    "Aliasing, clonar -> Variaveis apontando para o mesmo espaço.<br>\n",
    "Os efeitos que a mutabilidade causa"
   ]
  },
  {
   "cell_type": "markdown",
   "id": "312fd8a2-9222-482a-91ca-f50a3785c998",
   "metadata": {},
   "source": [
    "## Recursion / Recursividade"
   ]
  },
  {
   "cell_type": "markdown",
   "id": "d1446d4a-3908-439d-8b8d-c6efaf0a790d",
   "metadata": {},
   "source": [
    "Recursion é o ato de repetir o item chamando a sí mesmo. Alray alray, mas como assim?\n",
    "\n",
    "Algoriticamente: Um modo de solucionar problemas por \"dividir para conquistar\", reduzir o problema. Reduzir o problema para versões simples do mesmo problema.\n",
    "\n",
    "Semanticamente: Uma tecnica de programação em que a função chama a si mesma.\n",
    "\n",
    "<b>OLHA AI, FEI</b>\n",
    "NÃO PODEMOS DEIXAR ELA INFINITA:\n",
    "- É preciso ter um ou mais casos bases que ela resolve facilmente\n",
    "- Precisa resolver o problema, com outra entrada, com objeto de simplificar o problema completo\n",
    "\n",
    "Cuidar para não entrar em um loop infinito, caso da foto dentro da foto dentro da foto dentro da foto dentro da foto... (Droste Effect)\n",
    "\n",
    "\n",
    "\"Como eu posso reduzir esse problema numa versão mais simples, adicionando coisas que sei como fazer? E essa versão simplificada, reduzimos novamente e continuamos\"\n"
   ]
  },
  {
   "cell_type": "code",
   "execution_count": 5,
   "id": "2e192f68-0c21-415b-8875-1ac96e5c4570",
   "metadata": {},
   "outputs": [
    {
     "name": "stdout",
     "output_type": "stream",
     "text": [
      "5\n",
      "4\n",
      "3\n",
      "2\n",
      "1\n"
     ]
    },
    {
     "data": {
      "text/plain": [
       "0"
      ]
     },
     "execution_count": 5,
     "metadata": {},
     "output_type": "execute_result"
    }
   ],
   "source": [
    "def recursive(numero):\n",
    "    if numero == 0:\n",
    "        # caso base\n",
    "        return 0\n",
    "    else:\n",
    "        # corpo da recursao\n",
    "        print(numero)\n",
    "        return recursive(numero - 1)\n",
    "    \n",
    "recursive(5)"
   ]
  },
  {
   "cell_type": "markdown",
   "id": "bc2f8737-8996-4b23-84dc-34caeee56ee4",
   "metadata": {},
   "source": []
  }
 ],
 "metadata": {
  "kernelspec": {
   "display_name": "Python 3 (ipykernel)",
   "language": "python",
   "name": "python3"
  },
  "language_info": {
   "codemirror_mode": {
    "name": "ipython",
    "version": 3
   },
   "file_extension": ".py",
   "mimetype": "text/x-python",
   "name": "python",
   "nbconvert_exporter": "python",
   "pygments_lexer": "ipython3",
   "version": "3.10.1"
  }
 },
 "nbformat": 4,
 "nbformat_minor": 5
}
